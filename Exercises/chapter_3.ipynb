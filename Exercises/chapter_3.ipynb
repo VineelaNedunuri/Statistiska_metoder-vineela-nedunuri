{
 "cells": [
  {
   "attachments": {},
   "cell_type": "markdown",
   "metadata": {},
   "source": [
    "### Binomialfördelningen \n",
    "Den första diskreta fördelningen i Lantz är binomialfördelningen. Binomialfördelningen finns i SciPy under beteckningen 'binom'. Vi tar och importerar den."
   ]
  },
  {
   "cell_type": "code",
   "execution_count": null,
   "metadata": {},
   "outputs": [],
   "source": [
    "from scipy.stats import binom # Importera Binomialfördelningen från SciPy."
   ]
  },
  {
   "attachments": {},
   "cell_type": "markdown",
   "metadata": {},
   "source": [
    "## 3.1\n",
    "Antag att X-B(20, 0.2) "
   ]
  }
 ],
 "metadata": {
  "kernelspec": {
   "display_name": "Statistiska_metoder-vineela-nedunuri-vmh_srPp",
   "language": "python",
   "name": "python3"
  },
  "language_info": {
   "name": "python",
   "version": "3.9.13 (tags/v3.9.13:6de2ca5, May 17 2022, 16:36:42) [MSC v.1929 64 bit (AMD64)]"
  },
  "orig_nbformat": 4,
  "vscode": {
   "interpreter": {
    "hash": "7a5a49ccb5e261c4e8f7bbcde6062d84be8b5c00c9c8a163b6c159e9690e0f72"
   }
  }
 },
 "nbformat": 4,
 "nbformat_minor": 2
}
