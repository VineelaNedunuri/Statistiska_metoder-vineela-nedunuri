{
 "cells": [
  {
   "attachments": {},
   "cell_type": "markdown",
   "metadata": {},
   "source": [
    "### Binomialfördelningen \n",
    "Den första diskreta fördelningen i Lantz är binomialfördelningen. Binomialfördelningen finns i SciPy under beteckningen 'binom'. Vi tar och importerar den."
   ]
  },
  {
   "cell_type": "code",
   "execution_count": 1,
   "metadata": {},
   "outputs": [],
   "source": [
    "from scipy.stats import binom # Importera Binomialfördelningen från SciPy."
   ]
  },
  {
   "attachments": {},
   "cell_type": "markdown",
   "metadata": {},
   "source": [
    "#### 3.1\n",
    "Antag att X:B(20, 0.2).Beräkna väntevärde, varians och standardavvikelse för X. Beräkna även P(X>=4)"
   ]
  },
  {
   "cell_type": "code",
   "execution_count": 21,
   "metadata": {},
   "outputs": [
    {
     "name": "stdout",
     "output_type": "stream",
     "text": [
      "Väntevärde: 4.0\n",
      "Varians: 3.2\n",
      "standardavvikelse:  1.7888543819998317\n",
      "P(X>=4) = 0.5885511380434306\n"
     ]
    }
   ],
   "source": [
    "p = 0.2\n",
    "n = 20\n",
    "\n",
    "mean, var= binom.stats(n=n, p=p) # Beräkna medelvärde och varians med binom.stats()\n",
    "std = binom.std(n=n, p=p, loc = 0) # Beräkna  standardavvikelse med binom.stats()\n",
    "\n",
    "print('Väntevärde: ' + str(mean)) # Printa medelvärde\n",
    "print('Varians: ' + str(var)) # Printa varians\n",
    "print('standardavvikelse:  ' + str(std)) # Printa  standardavvikelse\n",
    "\n",
    "result = 1 - binom.cdf(k=3, n=n, p=p) # Beräkna sannolikhet P(X>=4) med cdf()\n",
    "\n",
    "print('P(X>=4) = ' +str(result)) # Printa resultat"
   ]
  },
  {
   "attachments": {},
   "cell_type": "markdown",
   "metadata": {},
   "source": [
    "#### 3.2\n",
    "Antag att X:B(8, 0.3).Beräkna väntevärde, varians och standardavvikelse för X. Beräkna även P(X<=2)"
   ]
  },
  {
   "cell_type": "code",
   "execution_count": 22,
   "metadata": {},
   "outputs": [
    {
     "name": "stdout",
     "output_type": "stream",
     "text": [
      "Väntevärde: 2.4\n",
      "Varians: 1.68\n",
      "standardavvikelse:  1.296148139681572\n",
      "P(X<=2) = 0.5517738100000001\n"
     ]
    }
   ],
   "source": [
    "p = 0.3\n",
    "n = 8\n",
    "\n",
    "mean, var = binom.stats(n=n, p=p) # Beräkna medelvärde och varians med binom.stats()\n",
    "std = binom.std(n=n, p=p, loc = 0) # Beräkna  standardavvikelse med binom.stats()\n",
    "\n",
    "print('Väntevärde: ' + str(mean)) # Printa medelvärde\n",
    "print('Varians: ' + str(var)) # Printa varians\n",
    "print('standardavvikelse:  ' + str(std)) # Printa  standardavvikelse\n",
    "\n",
    "result = binom.cdf(k=2, n=n, p=p) # Beräkna sannolikhet P(X>=4) med cdf()\n",
    "\n",
    "print('P(X<=2) = ' +str(result)) # Printa resultat"
   ]
  },
  {
   "attachments": {},
   "cell_type": "markdown",
   "metadata": {},
   "source": [
    "#### 3.3\n",
    "Antag att X:B(10, 0.6).Beräkna väntevärde, varians och standardavvikelse för X. Beräkna även P(2<=X<=4)"
   ]
  },
  {
   "cell_type": "code",
   "execution_count": 23,
   "metadata": {},
   "outputs": [
    {
     "name": "stdout",
     "output_type": "stream",
     "text": [
      "Väntevärde: 6.0\n",
      "Varians: 2.4000000000000004\n",
      "standardavvikelse:  1.5491933384829668\n",
      "P(2<=X<=4) = 0.16456089600000012\n"
     ]
    }
   ],
   "source": [
    "p = 0.6\n",
    "n = 10\n",
    "\n",
    "mean, var = binom.stats(n=n, p=p) # Beräkna medelvärde och varians med binom.stats()\n",
    "std = binom.std(n=n, p=p, loc = 0) # Beräkna  standardavvikelse med binom.stats()\n",
    "\n",
    "print('Väntevärde: ' + str(mean)) # Printa medelvärde\n",
    "print('Varians: ' + str(var)) # Printa varians\n",
    "print('standardavvikelse:  ' + str(std))  # Printa standardavvikelse\n",
    "\n",
    "result = binom.cdf(k=4, n=n, p=p)- binom.cdf(k=1, n=n, p=p) # Beräkna sannolikhet P(X>=4) med cdf()\n",
    "\n",
    "print('P(2<=X<=4) = ' +str(result)) # Printa resultat"
   ]
  },
  {
   "attachments": {},
   "cell_type": "markdown",
   "metadata": {},
   "source": [
    "### 3.4\n",
    "På Homewash AB säljer man tvättmedel i storpack i telefon. I genomsnitt vill 19 av 20 personer inte köpa tvättmedel av företagets säljare när de ringer hem till potentiella kunder. Under varje arbetspass ska en säljare ringa 100 potentiella kunder. Hur många lyckade försäljningar gör företagets säljare per pass i genomsnitt?Hur sannolikt är det att man högst lyckas slutförs 3 försäljningar under ett arbetspass?"
   ]
  }
 ],
 "metadata": {
  "kernelspec": {
   "display_name": "Statistiska_metoder-vineela-nedunuri-vmh_srPp",
   "language": "python",
   "name": "python3"
  },
  "language_info": {
   "codemirror_mode": {
    "name": "ipython",
    "version": 3
   },
   "file_extension": ".py",
   "mimetype": "text/x-python",
   "name": "python",
   "nbconvert_exporter": "python",
   "pygments_lexer": "ipython3",
   "version": "3.9.13"
  },
  "orig_nbformat": 4,
  "vscode": {
   "interpreter": {
    "hash": "7a5a49ccb5e261c4e8f7bbcde6062d84be8b5c00c9c8a163b6c159e9690e0f72"
   }
  }
 },
 "nbformat": 4,
 "nbformat_minor": 2
}
