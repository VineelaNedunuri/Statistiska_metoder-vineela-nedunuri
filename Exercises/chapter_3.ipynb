{
 "cells": [
  {
   "attachments": {},
   "cell_type": "markdown",
   "metadata": {},
   "source": [
    "<h1>Kapitel 3 - Diskreta fördelningar</h1>"
   ]
  },
  {
   "attachments": {},
   "cell_type": "markdown",
   "metadata": {},
   "source": [
    "### Binomialfördelningen \n",
    "Den första diskreta fördelningen i Lantz är binomialfördelningen. Binomialfördelningen finns i SciPy under beteckningen 'binom'. Vi tar och importerar den."
   ]
  },
  {
   "cell_type": "code",
   "execution_count": 2,
   "metadata": {},
   "outputs": [],
   "source": [
    "from scipy.stats import binom # Importera Binomialfördelningen från SciPy."
   ]
  },
  {
   "attachments": {},
   "cell_type": "markdown",
   "metadata": {},
   "source": [
    "#### 3.1\n",
    "Antag att X:B(20, 0.2).Beräkna väntevärde, varians och standardavvikelse för X. Beräkna även P(X>=4)"
   ]
  },
  {
   "cell_type": "code",
   "execution_count": 3,
   "metadata": {},
   "outputs": [
    {
     "name": "stdout",
     "output_type": "stream",
     "text": [
      "Väntevärde: 4.0\n",
      "Varians: 3.2\n",
      "standardavvikelse:  1.7888543819998317\n",
      "P(X>=4) = 0.5885511380434306\n"
     ]
    }
   ],
   "source": [
    "p = 0.2\n",
    "n = 20\n",
    "\n",
    "mean, var= binom.stats(n=n, p=p) # Beräkna medelvärde och varians med binom.stats()\n",
    "std = binom.std(n=n, p=p, loc = 0) # Beräkna  standardavvikelse med binom.std()\n",
    "\n",
    "print('Väntevärde: ' + str(mean)) # Printa medelvärde\n",
    "print('Varians: ' + str(var)) # Printa varians\n",
    "print('standardavvikelse:  ' + str(std)) # Printa  standardavvikelse\n",
    "\n",
    "result = 1 - binom.cdf(k=3, n=n, p=p) # Beräkna sannolikhet P(X>=4) med cdf()\n",
    "\n",
    "print('P(X>=4) = ' +str(result)) # Printa resultat"
   ]
  },
  {
   "attachments": {},
   "cell_type": "markdown",
   "metadata": {},
   "source": [
    "#### 3.2\n",
    "Antag att X:B(8, 0.3).Beräkna väntevärde, varians och standardavvikelse för X. Beräkna även P(X<=2)"
   ]
  },
  {
   "cell_type": "code",
   "execution_count": 4,
   "metadata": {},
   "outputs": [
    {
     "name": "stdout",
     "output_type": "stream",
     "text": [
      "Väntevärde: 2.4\n",
      "Varians: 1.68\n",
      "standardavvikelse:  1.296148139681572\n",
      "P(X<=2) = 0.5517738100000001\n"
     ]
    }
   ],
   "source": [
    "p = 0.3\n",
    "n = 8\n",
    "\n",
    "mean, var = binom.stats(n=n, p=p) # Beräkna medelvärde och varians med binom.stats()\n",
    "std = binom.std(n=n, p=p, loc = 0) # Beräkna  standardavvikelse med binom.std()\n",
    "\n",
    "print('Väntevärde: ' + str(mean)) # Printa medelvärde\n",
    "print('Varians: ' + str(var)) # Printa varians\n",
    "print('standardavvikelse:  ' + str(std)) # Printa  standardavvikelse\n",
    "\n",
    "result = binom.cdf(k=2, n=n, p=p) # Beräkna sannolikhet P(X<=2) med cdf()\n",
    "\n",
    "print('P(X<=2) = ' +str(result)) # Printa resultat"
   ]
  },
  {
   "attachments": {},
   "cell_type": "markdown",
   "metadata": {},
   "source": [
    "#### 3.3\n",
    "Antag att X:B(10, 0.6).Beräkna väntevärde, varians och standardavvikelse för X. Beräkna även P(2<=X<=4)"
   ]
  },
  {
   "cell_type": "code",
   "execution_count": 5,
   "metadata": {},
   "outputs": [
    {
     "name": "stdout",
     "output_type": "stream",
     "text": [
      "Väntevärde: 6.0\n",
      "Varians: 2.4000000000000004\n",
      "standardavvikelse:  1.5491933384829668\n",
      "P(2<=X<=4) = 0.16456089600000012\n"
     ]
    }
   ],
   "source": [
    "p = 0.6\n",
    "n = 10\n",
    "\n",
    "mean, var = binom.stats(n=n, p=p) # Beräkna medelvärde och varians med binom.stats()\n",
    "std = binom.std(n=n, p=p, loc = 0) # Beräkna  standardavvikelse med binom.std()\n",
    "\n",
    "print('Väntevärde: ' + str(mean)) # Printa medelvärde\n",
    "print('Varians: ' + str(var)) # Printa varians\n",
    "print('standardavvikelse:  ' + str(std))  # Printa standardavvikelse\n",
    "\n",
    "result = binom.cdf(k=4, n=n, p=p)- binom.cdf(k=1, n=n, p=p) # Beräkna sannolikhet P(X>=4) med cdf()\n",
    "\n",
    "print('P(2<=X<=4) = ' +str(result)) # Printa resultat"
   ]
  },
  {
   "attachments": {},
   "cell_type": "markdown",
   "metadata": {},
   "source": [
    "#### 3.4\n",
    "På Homewash AB säljer man tvättmedel i storpack i telefon. I genomsnitt vill 19 av 20 personer inte köpa tvättmedel av företagets säljare när de ringer hem till potentiella kunder. Under varje arbetspass ska en säljare ringa 100 potentiella kunder. Hur många lyckade försäljningar gör företagets säljare per pass i genomsnitt?Hur sannolikt är det att man högst lyckas slutförs 3 försäljningar under ett arbetspass?"
   ]
  },
  {
   "attachments": {},
   "cell_type": "markdown",
   "metadata": {},
   "source": [
    "Låt X symbolisers antal försäljningar av tvättmedel under arbetspass\n",
    "En säljare ringa 100 potentiella kunder n = 100\n",
    "Där sannolikheten för att person köpa tvättmedel av företagets  p = 1/20 = 0.05\n",
    "\n",
    "X:B(100, 0.05)"
   ]
  },
  {
   "cell_type": "code",
   "execution_count": 6,
   "metadata": {},
   "outputs": [
    {
     "name": "stdout",
     "output_type": "stream",
     "text": [
      "Väntevärde: 5.0\n",
      "P(X<=3) = 0.2578386591160163\n"
     ]
    }
   ],
   "source": [
    "#Hur många lyckade försäljningar gör företagets säljare per pass i genomsnitt?\n",
    "n = 100\n",
    "p= 0.05\n",
    "\n",
    "mean =  binom.mean(n=n, p=p) # Beräkna medelvärde med binom.stats()\n",
    "print('Väntevärde: ' + str(mean)) # Printa medelvärde\n",
    "\n",
    "\n",
    "# Hur sannolikt är det att man högst lyckas slutförs 3 försäljningar under ett arbetspass?\n",
    "result = binom.cdf(k=3, n=n, p=p) # Beräkna sannolikhet P(X<=2) med cdf()\n",
    "\n",
    "print('P(X<=3) = ' +str(result)) # Printa resultat\n"
   ]
  },
  {
   "attachments": {},
   "cell_type": "markdown",
   "metadata": {},
   "source": [
    "<h3>Hypergeometriska fördelningen</h3>\n",
    "Hypergeometriska fördelningen importeras från SciPy som hypergeom. <br>\n",
    "Dokumentationen för hypergeometriska fördelningen finns <a href=https://docs.scipy.org/doc/scipy/reference/generated/scipy.stats.hypergeom.html>här</a>"
   ]
  },
  {
   "cell_type": "code",
   "execution_count": 7,
   "metadata": {},
   "outputs": [],
   "source": [
    "from scipy.stats import hypergeom # Importera hypergeometriska fördelningen från SciPy"
   ]
  },
  {
   "attachments": {},
   "cell_type": "markdown",
   "metadata": {},
   "source": [
    "#### 3.5\n",
    "Antag att X:HG(5,2,10).Beräkna väntevärde, varians och standardavvikelse för X. Beräkna även P(X>=1)"
   ]
  },
  {
   "cell_type": "code",
   "execution_count": 8,
   "metadata": {},
   "outputs": [
    {
     "name": "stdout",
     "output_type": "stream",
     "text": [
      "Väntevärde: 1.0\n",
      "Varians: 0.4444444444444444\n",
      "standardavvikelse:  0.6666666666666666\n",
      "P(X<=1) = 0.7777777777777778\n"
     ]
    }
   ],
   "source": [
    "M = 10 # Antalet totala objekt\n",
    "n = 2 # Antalet objekt vi är intresserade av\n",
    "N = 5 # Antalet dragna objekt\n",
    "\n",
    "mean, var = hypergeom.stats(M=M, n=n, N=N) # Beräkna medelvärde och varians med hypergeom.stats()\n",
    "std = hypergeom.std(M=M, n=n, N=N) # Beräkna  standardavvikelse med hypergeom.std()\n",
    "\n",
    "print('Väntevärde: ' + str(mean)) # Printa medelvärde\n",
    "print('Varians: ' + str(var)) # Printa varians\n",
    "print('standardavvikelse:  ' + str(std)) # Printa  standardavvikelse\n",
    "\n",
    "\n",
    "result = 1- hypergeom.cdf(k=0, M=M, n=n, N=N) # Beräkna P(X>=1) med cdf()\n",
    "\n",
    "print('P(X<=1) = ' +str(result)) # Printa resultat"
   ]
  },
  {
   "attachments": {},
   "cell_type": "markdown",
   "metadata": {},
   "source": [
    "#### 3.6\n",
    "Antag att X:HG(3,7,15).Beräkna väntevärde, varians och standardavvikelse för X. Beräkna även P(X<=1)"
   ]
  },
  {
   "cell_type": "code",
   "execution_count": 9,
   "metadata": {},
   "outputs": [
    {
     "name": "stdout",
     "output_type": "stream",
     "text": [
      "Väntevärde: 1.4\n",
      "Varians: 0.64\n",
      "standardavvikelse:  0.8\n",
      "P(X<=1) = 0.5538461538461539\n"
     ]
    }
   ],
   "source": [
    "M = 15\n",
    "n = 7\n",
    "N = 3\n",
    "\n",
    "mean, var = hypergeom.stats(M=M, n=n, N=N) # Beräkna medelvärde och varians med hypergeom.stats()\n",
    "std = hypergeom.std(M=M, n=n, N=N) # Beräkna  standardavvikelse med hypergeom.std()\n",
    "\n",
    "print('Väntevärde: ' + str(mean)) # Printa medelvärde\n",
    "print('Varians: ' + str(var)) # Printa varians\n",
    "print('standardavvikelse:  ' + str(std)) # Printa  standardavvikelse\n",
    "\n",
    "\n",
    "result = hypergeom.cdf(k=1, M=M, n=n, N=N) # Beräkna P(X<=1) med cdf()\n",
    "\n",
    "print('P(X<=1) = ' +str(result)) # Printa resultat"
   ]
  },
  {
   "attachments": {},
   "cell_type": "markdown",
   "metadata": {},
   "source": [
    "#### 3.7\n",
    "Antag att X:HG(8,5,20).Beräkna väntevärde, varians och standardavvikelse för X. Beräkna även P(1<=X<=3)"
   ]
  },
  {
   "cell_type": "code",
   "execution_count": 10,
   "metadata": {},
   "outputs": [
    {
     "name": "stdout",
     "output_type": "stream",
     "text": [
      "Väntevärde: 2.0\n",
      "Varians: 0.9473684210526315\n",
      "standardavvikelse:  0.9733285267845752\n",
      "P(1<=X<=3) = 0.891124871001032\n"
     ]
    }
   ],
   "source": [
    "M = 20\n",
    "n = 5\n",
    "N = 8\n",
    "\n",
    "mean, var = hypergeom.stats(M=M, n=n, N=N) # Beräkna medelvärde och varians med hypergeom.stats()\n",
    "std = hypergeom.std(M=M, n=n, N=N) # Beräkna  standardavvikelse med hypergeom.stats()\n",
    "\n",
    "print('Väntevärde: ' + str(mean)) # Printa medelvärde\n",
    "print('Varians: ' + str(var)) # Printa varians\n",
    "print('standardavvikelse:  ' + str(std)) # Printa  standardavvikelse\n",
    "\n",
    "\n",
    "result = hypergeom.cdf(k=3, M=M, n=n, N=N)- hypergeom.cdf(k=0, M=M, n=n, N=N) # Beräkna P(X>=1) med cdf()\n",
    "\n",
    "print('P(1<=X<=3) = ' +str(result)) # Printa resultat"
   ]
  },
  {
   "attachments": {},
   "cell_type": "markdown",
   "metadata": {},
   "source": [
    "<h3>Poissonfördelningen</h3>\n",
    "Precis som med binomialfördelningen så finns Poissonfördelningen i SciPy."
   ]
  },
  {
   "cell_type": "code",
   "execution_count": 11,
   "metadata": {},
   "outputs": [],
   "source": [
    "from scipy.stats import poisson # Importera Poissonfördelningen från SciPy."
   ]
  },
  {
   "attachments": {},
   "cell_type": "markdown",
   "metadata": {},
   "source": [
    "#### 3.14\n",
    "Antag att X är en poissonfördelad slumpvariabel med $\\mu$ = 2. Vad blir varians och standardavvikelse för X. Beräkna även P(X=1), P(X<=1) och P(X>=1)"
   ]
  },
  {
   "cell_type": "code",
   "execution_count": 12,
   "metadata": {},
   "outputs": [
    {
     "name": "stdout",
     "output_type": "stream",
     "text": [
      "Varians: 2.0\n",
      "standardavvikelse:  1.4142135623730951\n",
      "P(X=1) = 0.2706705664732254\n",
      "P(X<=1) = 0.40600584970983794\n",
      "P(X>=1) = 0.8646647167633873\n"
     ]
    }
   ],
   "source": [
    "mu = 2\n",
    "\n",
    "var = poisson.var(mu=mu) # Beräkna varians med poisson.stats()\n",
    "std = poisson.std(mu=mu) # Beräkna  standardavvikelse med poisson.std()\n",
    "\n",
    "\n",
    "print('Varians: ' + str(var)) # Printa varians\n",
    "print('standardavvikelse:  ' + str(std)) # Printa  standardavvikelse\n",
    "\n",
    "# P(X=1)\n",
    "\n",
    "result = poisson.pmf(k=1, mu=mu) # Beräkna P(X=1) med pmf()\n",
    "print('P(X=1) = ' +str(result)) # Printa resultat\n",
    "\n",
    "# P(X<=1)\n",
    "result = poisson.cdf(k=1, mu=mu) # Beräkna sannolikheten P(X<=1) med cdf()\n",
    "print('P(X<=1) = ' +str(result)) # Printa resultat\n",
    "\n",
    "# P(X>=1)\n",
    "result = 1 - poisson.cdf(k=0, mu=mu) # Beräkna sannolikheten P(X>=1) med cdf()\n",
    "print('P(X>=1) = ' +str(result)) # Printa resultat\n",
    "\n"
   ]
  },
  {
   "attachments": {},
   "cell_type": "markdown",
   "metadata": {},
   "source": [
    "#### 3.15\n",
    "Antag att X:P(3,6).Beräkna P(X=3),P(X<=1) och P(x>=5)"
   ]
  },
  {
   "cell_type": "code",
   "execution_count": 13,
   "metadata": {},
   "outputs": [
    {
     "name": "stdout",
     "output_type": "stream",
     "text": [
      "P(X=3) = 0.21246926575014694\n",
      "P(X<=1) = 0.12568912325754575\n",
      "P(X>=5) = 0.29356155035871934\n"
     ]
    }
   ],
   "source": [
    "mu = 3.6\n",
    "\n",
    "# P(X=3)\n",
    "\n",
    "result = poisson.pmf(k=3, mu=mu) # Beräkna P(X=3) med pmf()\n",
    "print('P(X=3) = ' +str(result)) # Printa resultat\n",
    "\n",
    "# P(X<=1)\n",
    "result = poisson.cdf(k=1, mu=mu) # Beräkna sannolikheten P(X<=1) med cdf()\n",
    "print('P(X<=1) = ' +str(result)) # Printa resultat\n",
    "\n",
    "# P(X>=5)\n",
    "result = 1 - poisson.cdf(k=4, mu=mu) # Beräkna sannolikheten P(X>=5) med cdf()\n",
    "print('P(X>=5) = ' +str(result)) # Printa resultat\n"
   ]
  },
  {
   "attachments": {},
   "cell_type": "markdown",
   "metadata": {},
   "source": [
    "### 3.22 \n",
    "En viss maskin påstås ha en så hog driftsäkerhet att den måste repaseras i genomsnitt  0.5 gånger per år.Antag att detta är sant.\n",
    "- a)Hur sannolikhet är det att maskinen inte kommer att behöva reperaras alls ett visst år?\n",
    "- b)Hur sannolikhet är det att maskinen kommer att behöva reperaras minst 2 gånger ett visst år?  \n",
    "- c)hur hög måste dtriftsäkerhet vara i termler av förväntat antal reparationer per år för att sanlikheten för at den inte ska behöva repareras ett visst år vara mist 80%?"
   ]
  },
  {
   "attachments": {},
   "cell_type": "markdown",
   "metadata": {},
   "source": [
    "Från data X:P(0.5)"
   ]
  },
  {
   "cell_type": "code",
   "execution_count": 15,
   "metadata": {},
   "outputs": [
    {
     "name": "stdout",
     "output_type": "stream",
     "text": [
      "P(X=0) = 0.6065306597126334\n",
      "P(X>=2) = 0.09020401043104986\n"
     ]
    }
   ],
   "source": [
    "# a)maskinen inte kommer att behöva reperaras alls ett visst år: P(X=0)\n",
    "mu = 0.5\n",
    "\n",
    "# P(X=0)\n",
    "\n",
    "result = poisson.pmf(k=0, mu=mu) # Beräkna P(X=0) med pmf()\n",
    "print('P(X=0) = ' +str(result)) # Printa resultat\n",
    "\n",
    "# b)maskinen kommer att behöva reperaras  minst 2 gånger ett visst år: P(X>=2)\n",
    "# P(X>=2)\n",
    "result = 1 - poisson.cdf(k=1, mu=mu) # Beräkna sannolikheten P(X>=2) med cdf()\n",
    "print('P(X>=2) = ' +str(result)) # Printa resultat\n",
    "\n"
   ]
  },
  {
   "attachments": {},
   "cell_type": "markdown",
   "metadata": {},
   "source": [
    "<h3>Geometriska fördelningen</h3>\n",
    "Geometriska fördelnigen importeras från SciPy som 'geom'."
   ]
  },
  {
   "cell_type": "code",
   "execution_count": 16,
   "metadata": {},
   "outputs": [],
   "source": [
    "from scipy.stats import geom # Importera geometriska fördelningen med SciPy"
   ]
  },
  {
   "attachments": {},
   "cell_type": "markdown",
   "metadata": {},
   "source": [
    "#### 3.25\n",
    "Antag att X:G(0,2).Beräkna P(X=3),P(X<=2) och P(x>=5)\n"
   ]
  },
  {
   "cell_type": "code",
   "execution_count": 18,
   "metadata": {},
   "outputs": [
    {
     "name": "stdout",
     "output_type": "stream",
     "text": [
      "P(X=3) = 0.12800000000000003\n",
      "P(X<=2) = 0.36\n",
      "P(X>=5) = 0.40959999999999996\n"
     ]
    }
   ],
   "source": [
    "\n",
    "p = 0.2\n",
    "\n",
    "# P(X=3)\n",
    "result = geom.pmf(k=3, p=p) # Beräkna P(X=3) med pmf()\n",
    "print('P(X=3) = ' +str(result)) # Printa resultat\n",
    "\n",
    "# P(X<=2)\n",
    "result = geom.cdf(k=2, p=p) # Beräkna sannolikheten P(X<=2) med cdf()\n",
    "print('P(X<=2) = ' +str(result)) # Printa resultat\n",
    "\n",
    "# P(X>=5)\n",
    "result = 1 - geom.cdf(k=4, p=p) # Beräkna sannolikheten P(X>=5) med cdf()\n",
    "print('P(X>=5) = ' +str(result)) # Printa resultat\n"
   ]
  },
  {
   "attachments": {},
   "cell_type": "markdown",
   "metadata": {},
   "source": [
    "#### 3.26\n",
    "Antag att X:G(0,72).Beräkna P(X=2),P(X<=4) och P(x>=4)\n"
   ]
  },
  {
   "cell_type": "code",
   "execution_count": 19,
   "metadata": {},
   "outputs": [
    {
     "name": "stdout",
     "output_type": "stream",
     "text": [
      "P(X=2) = 0.2016\n",
      "P(X<=4) = 0.99385344\n",
      "P(X>=4) = 0.02195199999999997\n"
     ]
    }
   ],
   "source": [
    "p = 0.72\n",
    "\n",
    "# P(X=2)\n",
    "result = geom.pmf(k=2, p=p) # Beräkna P(X=2) med pmf()\n",
    "print('P(X=2) = ' +str(result)) # Printa resultat\n",
    "\n",
    "# P(X<=4)\n",
    "result = geom.cdf(k=4, p=p) # Beräkna sannolikheten P(X<=4) med cdf()\n",
    "print('P(X<=4) = ' +str(result)) # Printa resultat\n",
    "\n",
    "# P(X>=4)\n",
    "result = 1 - geom.cdf(k=3, p=p) # Beräkna sannolikheten P(X>=4) med cdf()\n",
    "print('P(X>=4) = ' +str(result)) # Printa resultat\n"
   ]
  },
  {
   "attachments": {},
   "cell_type": "markdown",
   "metadata": {},
   "source": [
    "<h3>Negativa binomialfördelningen</h3>"
   ]
  },
  {
   "cell_type": "code",
   "execution_count": 20,
   "metadata": {},
   "outputs": [],
   "source": [
    "from scipy.stats import nbinom  # Importera negativa binomialfördelningen från SciPy"
   ]
  },
  {
   "attachments": {},
   "cell_type": "markdown",
   "metadata": {},
   "source": [
    "#### 3.27\n",
    "Antag att X:NB(3,0.25).Beräkna P(X=5),P(X=7) och P(x<=7)\n"
   ]
  },
  {
   "cell_type": "code",
   "execution_count": 21,
   "metadata": {},
   "outputs": [
    {
     "name": "stdout",
     "output_type": "stream",
     "text": [
      "P(X=5) = 0.052734375000000014\n",
      "P(X=7) = 0.07415771484375\n",
      "P(X=7) = 0.24359130859375\n"
     ]
    }
   ],
   "source": [
    "n = 3\n",
    "p = 0.25\n",
    "\n",
    "# P(X=5)\n",
    "result = nbinom.pmf(k=5, n=n, p=p, loc=n) # Beräkna sannolikhet P(X=5) med pmf()\n",
    "print('P(X=5) = ' +str(result)) # printa resultat\n",
    "\n",
    "# P(X=7)\n",
    "result = nbinom.pmf(k=7, n=n, p=p, loc=n) # Beräkna sannolikhet P(X=7) med pmf()\n",
    "print('P(X=7) = ' +str(result)) # printa resultat\n",
    "\n",
    "# P(X<=7)\n",
    "result = nbinom.cdf(k=7, n=n, p=p, loc=n) # Beräkna sannolikhet P(X=7) med cdf()\n",
    "print('P(X=7) = ' +str(result)) # printa resultat"
   ]
  },
  {
   "attachments": {},
   "cell_type": "markdown",
   "metadata": {},
   "source": [
    "#### 3.28\n",
    "Antag att X:NB(1,0,2).Beräkna P(X=3),P(X<=2) och P(x>=5)\n"
   ]
  },
  {
   "cell_type": "code",
   "execution_count": 22,
   "metadata": {},
   "outputs": [
    {
     "name": "stdout",
     "output_type": "stream",
     "text": [
      "P(X=3) = 0.12799999999999997\n",
      "P(X<=2) = 0.3600000000000001\n",
      "P(X=7) = 0.40959999999999996\n"
     ]
    }
   ],
   "source": [
    "n = 1\n",
    "p = 0.2\n",
    "\n",
    "# P(X=3)\n",
    "result = nbinom.pmf(k=3, n=n, p=p, loc=n) # Beräkna sannolikhet P(X=3) med pmf()\n",
    "print('P(X=3) = ' +str(result)) # printa resultat\n",
    "\n",
    "# P(X<=2)\n",
    "result = nbinom.cdf(k=2, n=n, p=p, loc=n) # Beräkna sannolikhet P(X<=2) med cdf()\n",
    "print('P(X<=2) = ' +str(result)) # printa resultat\n",
    "\n",
    "# P(X>=5)\n",
    "result =1- nbinom.cdf(k=4, n=n, p=p, loc=n) # Beräkna sannolikhet P(X>=5) med cdf()\n",
    "print('P(X=7) = ' +str(result)) # printa resultat"
   ]
  }
 ],
 "metadata": {
  "kernelspec": {
   "display_name": "Statistiska_metoder-vineela-nedunuri-vmh_srPp",
   "language": "python",
   "name": "python3"
  },
  "language_info": {
   "codemirror_mode": {
    "name": "ipython",
    "version": 3
   },
   "file_extension": ".py",
   "mimetype": "text/x-python",
   "name": "python",
   "nbconvert_exporter": "python",
   "pygments_lexer": "ipython3",
   "version": "3.9.13"
  },
  "orig_nbformat": 4,
  "vscode": {
   "interpreter": {
    "hash": "7a5a49ccb5e261c4e8f7bbcde6062d84be8b5c00c9c8a163b6c159e9690e0f72"
   }
  }
 },
 "nbformat": 4,
 "nbformat_minor": 2
}
