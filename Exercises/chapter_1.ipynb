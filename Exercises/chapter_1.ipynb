{
 "cells": [
  {
   "attachments": {},
   "cell_type": "markdown",
   "metadata": {},
   "source": [
    "# 1.1\n",
    "En datamängd består av värdena 3,6,7,8,5,5,6,5,9,14,13 och 9. Beräkna datamängdens\n",
    "- a)Type värde\n",
    "- b) Median\n",
    "- c) medelvärde\n",
    "- d) variationsvidd\n",
    "- e) Första kvartilen\n",
    "- f) Tredje kvartilen\n",
    "- g) Varians(anta att datamängaden är ett stickprov)\n",
    "- h) Standaradavvikelse (anta att datamängaden är ett stickprov)\n",
    "- i) Genomsnitting absolutavvvikelse\n",
    "- j) snedhet \n"
   ]
  },
  {
   "cell_type": "code",
   "execution_count": 12,
   "metadata": {},
   "outputs": [],
   "source": [
    "#importera paket\n",
    "import numpy as np\n",
    "import pandas as pd\n",
    "import scipy.stats as scs \n",
    "import seaborn as sns \n",
    "import statistics\n",
    "\n",
    "data = [3,5,5,5,6,6,7,8,9,9,13,14]"
   ]
  },
  {
   "cell_type": "code",
   "execution_count": 13,
   "metadata": {},
   "outputs": [
    {
     "name": "stdout",
     "output_type": "stream",
     "text": [
      "Mode: 5\n"
     ]
    }
   ],
   "source": [
    "mode = statistics.mode(data) # Beräkna typvärdet\n",
    "print('Mode: ' + str(mode)) # Printa typvärdet"
   ]
  },
  {
   "cell_type": "code",
   "execution_count": 14,
   "metadata": {},
   "outputs": [
    {
     "name": "stdout",
     "output_type": "stream",
     "text": [
      "Median: 6.5\n"
     ]
    }
   ],
   "source": [
    "median = statistics.median(data) # Beräkna median\n",
    "print('Median: ' + str(median)) # Printa median"
   ]
  },
  {
   "cell_type": "code",
   "execution_count": 15,
   "metadata": {},
   "outputs": [
    {
     "name": "stdout",
     "output_type": "stream",
     "text": [
      "Mean: 7.5\n"
     ]
    }
   ],
   "source": [
    "mean = statistics.mean(data) # Beräkna Medelvärde\n",
    "print('Mean: ' + str(mean)) # Printa Medelvärde"
   ]
  },
  {
   "cell_type": "code",
   "execution_count": 16,
   "metadata": {},
   "outputs": [
    {
     "name": "stdout",
     "output_type": "stream",
     "text": [
      "variationsvidd: 11\n"
     ]
    }
   ],
   "source": [
    "variationsvidd = data[11]-data[0] # Beräkna variationsvidd\n",
    "print('variationsvidd: ' + str(variationsvidd)) #Printa variationsvidd"
   ]
  },
  {
   "cell_type": "code",
   "execution_count": 19,
   "metadata": {},
   "outputs": [
    {
     "name": "stdout",
     "output_type": "stream",
     "text": [
      "variance: 11.0\n"
     ]
    }
   ],
   "source": [
    "var = statistics.variance(data) #Beräkna Varians\n",
    "print('variance: ' + str(var)) # Printa varians"
   ]
  },
  {
   "cell_type": "code",
   "execution_count": 20,
   "metadata": {},
   "outputs": [
    {
     "name": "stdout",
     "output_type": "stream",
     "text": [
      "standard_deviation: 3.3166247903554\n"
     ]
    }
   ],
   "source": [
    "standard_deviation = statistics.stdev(data) # Beräkna standardavvikelse\n",
    "print('standard_deviation: ' + str(standard_deviation)) # Printa standardavvikelse\n"
   ]
  }
 ],
 "metadata": {
  "kernelspec": {
   "display_name": "Statistiska_metoder-vineela-nedunuri-vmh_srPp",
   "language": "python",
   "name": "python3"
  },
  "language_info": {
   "codemirror_mode": {
    "name": "ipython",
    "version": 3
   },
   "file_extension": ".py",
   "mimetype": "text/x-python",
   "name": "python",
   "nbconvert_exporter": "python",
   "pygments_lexer": "ipython3",
   "version": "3.9.13"
  },
  "orig_nbformat": 4,
  "vscode": {
   "interpreter": {
    "hash": "7a5a49ccb5e261c4e8f7bbcde6062d84be8b5c00c9c8a163b6c159e9690e0f72"
   }
  }
 },
 "nbformat": 4,
 "nbformat_minor": 2
}
