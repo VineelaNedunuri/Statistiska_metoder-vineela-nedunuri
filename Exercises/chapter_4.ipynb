{
 "cells": [
  {
   "attachments": {},
   "cell_type": "markdown",
   "metadata": {},
   "source": [
    "<h1>Kapitel 4 - Kontinuerliga fördelningar</h1>"
   ]
  },
  {
   "cell_type": "code",
   "execution_count": null,
   "metadata": {},
   "outputs": [],
   "source": [
    "# Importera nödvändiga paket\n",
    "import numpy as np\n",
    "import matplotlib.pyplot as plt"
   ]
  },
  {
   "cell_type": "code",
   "execution_count": 1,
   "metadata": {},
   "outputs": [],
   "source": [
    "from scipy.stats import norm # Importera normalfördelningen från SciPy"
   ]
  },
  {
   "attachments": {},
   "cell_type": "markdown",
   "metadata": {},
   "source": [
    "#### 4.2\n",
    "Vad är sannolikhet att den standardnormalfördelade slumpvariable Z får ett vårde som ligger under -0.55? "
   ]
  },
  {
   "cell_type": "code",
   "execution_count": 7,
   "metadata": {},
   "outputs": [
    {
     "name": "stdout",
     "output_type": "stream",
     "text": [
      "P(Z<-0.55): 0.29115968678834636\n"
     ]
    }
   ],
   "source": [
    "result = norm.cdf(-0.55) # Beräkna sannolikhet för P( Z < -0.55)\n",
    "\n",
    "print(f'P(Z<-0.55): {result}') # Printa resultat"
   ]
  },
  {
   "attachments": {},
   "cell_type": "markdown",
   "metadata": {},
   "source": [
    "#### 4.3\n",
    "Vad är sannolikhet att den standardnormalfördelade slumpvariable Z får ett vårde som ligger over 1.41? "
   ]
  },
  {
   "cell_type": "code",
   "execution_count": 8,
   "metadata": {},
   "outputs": [
    {
     "name": "stdout",
     "output_type": "stream",
     "text": [
      "P(Z>1.41): 0.07926984145339233\n"
     ]
    }
   ],
   "source": [
    "result = 1-norm.cdf(1.41) # Beräkna sannolikhet för P(Z>1.41)\n",
    "\n",
    "print(f'P(Z>1.41): {result}') # Printa resultat"
   ]
  },
  {
   "attachments": {},
   "cell_type": "markdown",
   "metadata": {},
   "source": [
    "#### 4.4\n",
    "Vad är sannolikhet att den standardnormalfördelade slumpvariable Z får ett vårde som ligger under 0.87? "
   ]
  },
  {
   "cell_type": "code",
   "execution_count": 9,
   "metadata": {},
   "outputs": [
    {
     "name": "stdout",
     "output_type": "stream",
     "text": [
      "P(Z<-0.55): 0.8078497978963038\n"
     ]
    }
   ],
   "source": [
    "result = norm.cdf(0.87) # Beräkna sannolikhet för P( Z<0.87)\n",
    "\n",
    "print(f'P(Z<-0.55): {result}') # Printa resultat"
   ]
  },
  {
   "attachments": {},
   "cell_type": "markdown",
   "metadata": {},
   "source": [
    "#### 4.5\n",
    "Vad är sannolikhet att den standardnormalfördelade slumpvariable Z får ett vårde som ligger under -1.23? "
   ]
  },
  {
   "cell_type": "code",
   "execution_count": 10,
   "metadata": {},
   "outputs": [
    {
     "name": "stdout",
     "output_type": "stream",
     "text": [
      "P(Z>-1.23): 0.8906514475743081\n"
     ]
    }
   ],
   "source": [
    "result = 1-norm.cdf(-1.23) # Beräkna sannolikhet för P(Z>-1.23)\n",
    "\n",
    "print(f'P(Z>-1.23): {result}') # Printa resultat"
   ]
  },
  {
   "attachments": {},
   "cell_type": "markdown",
   "metadata": {},
   "source": [
    "#### 4.6\n",
    "Vad är sannolikhet att den standardnormalfördelade slumpvariable Z får ett vårde som ligger mellan -0.18 och 1.55? "
   ]
  },
  {
   "cell_type": "code",
   "execution_count": 14,
   "metadata": {},
   "outputs": [
    {
     "name": "stdout",
     "output_type": "stream",
     "text": [
      "P(-0.18< Z <1.55): 0.5108529578988417\n"
     ]
    }
   ],
   "source": [
    "result = norm.cdf(1.55) - norm.cdf(-0.18) # Beräkna sannolikhet för P(-0.18< Z <1.55)\n",
    "\n",
    "print(f'P(-0.18< Z <1.55): {result}') # Printa resultat"
   ]
  },
  {
   "attachments": {},
   "cell_type": "markdown",
   "metadata": {},
   "source": [
    "#### 4.7\n",
    "Vad är sannolikhet att den standardnormalfördelade slumpvariable Z får ett vårde som ligger mellan -0.65 och -0.32? "
   ]
  },
  {
   "cell_type": "code",
   "execution_count": 15,
   "metadata": {},
   "outputs": [
    {
     "name": "stdout",
     "output_type": "stream",
     "text": [
      "P(-0.65< Z <-0.32): 0.11663805447081521\n"
     ]
    }
   ],
   "source": [
    "result = norm.cdf(-0.32) - norm.cdf(-0.65) # Beräkna sannolikhet för P(-0.18< Z <1.55)\n",
    "\n",
    "print(f'P(-0.65< Z <-0.32): {result}') # Printa resultat"
   ]
  },
  {
   "attachments": {},
   "cell_type": "markdown",
   "metadata": {},
   "source": [
    "#### 4.8\n",
    "Vad är sannolikhet att den standardnormalfördelade slumpvariable Z får ett vårde som ligger mellan 1.46 och 1.83? "
   ]
  },
  {
   "cell_type": "code",
   "execution_count": 16,
   "metadata": {},
   "outputs": [
    {
     "name": "stdout",
     "output_type": "stream",
     "text": [
      "P(1.46< Z <1.83): 0.03852006754626547\n"
     ]
    }
   ],
   "source": [
    "result = norm.cdf(1.83) - norm.cdf(1.46) # Beräkna sannolikhet för P(-0.18< Z <1.55)\n",
    "\n",
    "print(f'P(1.46< Z <1.83): {result}') # Printa resultat"
   ]
  },
  {
   "attachments": {},
   "cell_type": "markdown",
   "metadata": {},
   "source": [
    "#### 4.9\n",
    "Vad är sannolikhet att den standardnormalfördelade slumpvariable Z får ett vårde som ligger over 0? "
   ]
  },
  {
   "cell_type": "code",
   "execution_count": 21,
   "metadata": {},
   "outputs": [
    {
     "name": "stdout",
     "output_type": "stream",
     "text": [
      "P(Z>0): 0.5\n"
     ]
    }
   ],
   "source": [
    "result = 1-norm.cdf(0) # Beräkna sannolikhet för P(Z>0)\n",
    "\n",
    "print(f'P(Z>0): {result}') # Printa resultat"
   ]
  },
  {
   "attachments": {},
   "cell_type": "markdown",
   "metadata": {},
   "source": [
    "#### 4.10\n",
    "Vad är sannolikhet att den standardnormalfördelade slumpvariable Z får ett vårde som ligger mellan 0 och 100? "
   ]
  },
  {
   "cell_type": "code",
   "execution_count": 22,
   "metadata": {},
   "outputs": [
    {
     "name": "stdout",
     "output_type": "stream",
     "text": [
      "P(0< Z <100): 0.5\n"
     ]
    }
   ],
   "source": [
    "result = norm.cdf(100) - norm.cdf(0) # Beräkna sannolikhet för P(0< Z <100)\n",
    "\n",
    "print(f'P(0< Z <100): {result}') # Printa resultat"
   ]
  },
  {
   "attachments": {},
   "cell_type": "markdown",
   "metadata": {},
   "source": [
    "#### 4.11\n",
    "Vad är sannolikhet att den standardnormalfördelade slumpvariable Z får ett vårde som överstiger 6? "
   ]
  },
  {
   "cell_type": "code",
   "execution_count": 23,
   "metadata": {},
   "outputs": [
    {
     "name": "stdout",
     "output_type": "stream",
     "text": [
      "P(Z>6): 9.865877004244794e-10\n"
     ]
    }
   ],
   "source": [
    "result = 1-norm.cdf(6) # Beräkna sannolikhet för P(Z>6)\n",
    "\n",
    "print(f'P(Z>6): {result}') # Printa resultat"
   ]
  },
  {
   "attachments": {},
   "cell_type": "markdown",
   "metadata": {},
   "source": [
    "#### 4.19\n",
    "Vad är sannolikheten att en normalfördelad slumpvariable X med  medelväredet 32 och standardvvikelsen 5 får ett värde som överstiger 35?"
   ]
  },
  {
   "cell_type": "code",
   "execution_count": 25,
   "metadata": {},
   "outputs": [
    {
     "name": "stdout",
     "output_type": "stream",
     "text": [
      "P(X >35): 0.27425311775007355\n"
     ]
    }
   ],
   "source": [
    "loc = 32 # Sätt medelvärdet 'loc' till 32\n",
    "scale = 5 # Sätt standardavvikelsen 'scale' till 5\n",
    "\n",
    "#P(X > 35)\n",
    "\n",
    "result = 1 - norm.cdf(loc=loc, scale=scale, x=35) # Beräkna 1 - P(X <35)\n",
    "\n",
    "print(f'P(X >35): {result}') # Printa resultat\n"
   ]
  },
  {
   "attachments": {},
   "cell_type": "markdown",
   "metadata": {},
   "source": [
    "#### 4.20\n",
    "Vad är sannolikheten att en normalfördelad slumpvariable X med  medelväredet 16 och standardvvikelsen 1.3 får ett värde som understiger 19?"
   ]
  },
  {
   "cell_type": "code",
   "execution_count": 30,
   "metadata": {},
   "outputs": [
    {
     "name": "stdout",
     "output_type": "stream",
     "text": [
      "P(X<19): 0.9894918718862407\n"
     ]
    }
   ],
   "source": [
    "loc = 16 # Sätt medelvärdet 'loc' till 16\n",
    "scale = 1.3 # Sätt standardavvikelsen 'scale' till 1.3\n",
    "\n",
    "#P(X <19)\n",
    "\n",
    "result = norm.cdf(loc=loc, scale=scale, x=19) # Beräkna P(X < 19)\n",
    "\n",
    "print(f'P(X<19): {result}') # Printa resultat\n"
   ]
  },
  {
   "attachments": {},
   "cell_type": "markdown",
   "metadata": {},
   "source": [
    "#### 4.21\n",
    "Vad är sannolikheten att en normalfördelad slumpvariable X med  medelväredet 163 och standardvvikelsen 36 får ett värde som överstiger 185?"
   ]
  },
  {
   "cell_type": "code",
   "execution_count": 31,
   "metadata": {},
   "outputs": [
    {
     "name": "stdout",
     "output_type": "stream",
     "text": [
      "P(X>185): 0.2705630122358341\n"
     ]
    }
   ],
   "source": [
    "loc = 163 # Sätt medelvärdet 'loc' till 163\n",
    "scale = 36# Sätt standardavvikelsen 'scale' till 36\n",
    "\n",
    "#P(X >185)\n",
    "\n",
    "result = 1 - norm.cdf(loc=loc, scale=scale, x=185) # Beräkna 1 - P(X < 185)\n",
    "\n",
    "print(f'P(X>185): {result}') # Printa resultat"
   ]
  },
  {
   "attachments": {},
   "cell_type": "markdown",
   "metadata": {},
   "source": [
    "#### 4.22\n",
    "Vad är sannolikheten att en normalfördelad slumpvariable X med  medelväredet 0 och standardvvikelsen 3 får ett värde som ligger mellan 3 och 4?"
   ]
  },
  {
   "cell_type": "code",
   "execution_count": 32,
   "metadata": {},
   "outputs": [
    {
     "name": "stdout",
     "output_type": "stream",
     "text": [
      "P(3<X<4): 0.0674440342055892\n"
     ]
    }
   ],
   "source": [
    "loc = 0# Sätt medelvärdet 'loc' till 0\n",
    "scale = 3# Sätt standardavvikelsen 'scale' till 3\n",
    "\n",
    "#P(3<X<4)\n",
    "\n",
    "result = norm.cdf(loc=loc, scale=scale, x=4) - norm.cdf(loc=loc, scale=scale, x=3) # Beräkna P(X <4) - P(X <3)\n",
    "\n",
    "print(f'P(3<X<4): {result}') # Printa resultat"
   ]
  },
  {
   "attachments": {},
   "cell_type": "markdown",
   "metadata": {},
   "source": [
    "#### 4.23\n",
    "Vad är sannolikheten att en normalfördelad slumpvariable X med  medelväredet 596 och standardvvikelsen 81 får ett värde som ligger mellan 500 och 650?"
   ]
  },
  {
   "cell_type": "code",
   "execution_count": 33,
   "metadata": {},
   "outputs": [
    {
     "name": "stdout",
     "output_type": "stream",
     "text": [
      "P(500<X<650): 0.6295353443918379\n"
     ]
    }
   ],
   "source": [
    "loc = 596# Sätt medelvärdet 'loc' till 596\n",
    "scale =81# Sätt standardavvikelsen 'scale' till 81\n",
    "\n",
    "#P(500<X<650)\n",
    "\n",
    "result = norm.cdf(loc=loc, scale=scale, x=650) - norm.cdf(loc=loc, scale=scale, x=500) # Beräkna P(X <650) - P(X <500)\n",
    "\n",
    "print(f'P(500<X<650): {result}') # Printa resultat"
   ]
  },
  {
   "attachments": {},
   "cell_type": "markdown",
   "metadata": {},
   "source": [
    "#### 4.36\n",
    "Anta att X:Exp(0,86) Beräkna\n",
    "- a) P(X<1.5)\n",
    "- b) P(X>1)\n",
    "- c) P(0.5< X<0.8)\n"
   ]
  },
  {
   "attachments": {},
   "cell_type": "markdown",
   "metadata": {},
   "source": [
    "<h5>Exponentialfördelningen</h5>"
   ]
  },
  {
   "cell_type": "code",
   "execution_count": 35,
   "metadata": {},
   "outputs": [],
   "source": [
    "from scipy.stats import expon # Importera exponentialfördelningen från SciPy"
   ]
  },
  {
   "cell_type": "code",
   "execution_count": 36,
   "metadata": {},
   "outputs": [
    {
     "name": "stdout",
     "output_type": "stream",
     "text": [
      "P(X <1.5): 0.8252128002665695\n",
      "P(X > 1): 0.3126125553060686\n",
      "P(0.5< X<0.8): 0.1646556934745126\n"
     ]
    }
   ],
   "source": [
    "mu = 0.86\n",
    "\n",
    "# a) P(X<1.5)\n",
    "result = expon.cdf(x=1.5, scale=mu) # Beräkna P(X <1.5) genom F(5)\n",
    "print(f'P(X <1.5): {result}') # Printa resultat\n",
    "\n",
    "#b) P(X>1)\n",
    "result = 1 - expon.cdf(x=1, scale=mu) # Beräkna P(X > 1) genom 1 - P(X <1)\n",
    "print(f'P(X > 1): {result}') # Printa resultat\n",
    "\n",
    "#c) P(0.5< X<0.8)\n",
    "result = expon.cdf(x=0.8, scale=mu) - expon.cdf(x=0.5, scale=mu) # Beräkna P(0.5<X<0.8 )\n",
    "print(f'P(0.5< X<0.8): {result}') # Printa resultat\n"
   ]
  }
 ],
 "metadata": {
  "kernelspec": {
   "display_name": "Statistiska_metoder-vineela-nedunuri-vmh_srPp",
   "language": "python",
   "name": "python3"
  },
  "language_info": {
   "codemirror_mode": {
    "name": "ipython",
    "version": 3
   },
   "file_extension": ".py",
   "mimetype": "text/x-python",
   "name": "python",
   "nbconvert_exporter": "python",
   "pygments_lexer": "ipython3",
   "version": "3.9.13"
  },
  "orig_nbformat": 4,
  "vscode": {
   "interpreter": {
    "hash": "7a5a49ccb5e261c4e8f7bbcde6062d84be8b5c00c9c8a163b6c159e9690e0f72"
   }
  }
 },
 "nbformat": 4,
 "nbformat_minor": 2
}
