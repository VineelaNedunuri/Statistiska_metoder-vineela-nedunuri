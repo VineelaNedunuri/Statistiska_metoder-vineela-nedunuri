{
 "cells": [
  {
   "attachments": {},
   "cell_type": "markdown",
   "metadata": {},
   "source": [
    "### Data information \n",
    "\n",
    "The data we are using here is auto mpg data set which obtained in 1963 from the American Statistical Association.it describes various engine parameters related to fuel consumption in various car models from 1970-1982.\n"
   ]
  },
  {
   "attachments": {},
   "cell_type": "markdown",
   "metadata": {},
   "source": [
    "Importing libraries : \n",
    "NumPy, Pandas, Matplotlib, Seaborn and SciPy libraries are used to explore the dataset. "
   ]
  },
  {
   "cell_type": "code",
   "execution_count": 1,
   "metadata": {},
   "outputs": [],
   "source": [
    "#importe packages\n",
    "import numpy as np\n",
    "import pandas as pd\n",
    "import matplotlib.pyplot as plt\n",
    "import scipy.stats as scs \n",
    "import seaborn as sns \n",
    "    \n"
   ]
  },
  {
   "attachments": {},
   "cell_type": "markdown",
   "metadata": {},
   "source": [
    "Import data: We also import a dataset for analysis with name auto-mpg.csv "
   ]
  },
  {
   "cell_type": "code",
   "execution_count": 2,
   "metadata": {},
   "outputs": [
    {
     "data": {
      "text/html": [
       "<div>\n",
       "<style scoped>\n",
       "    .dataframe tbody tr th:only-of-type {\n",
       "        vertical-align: middle;\n",
       "    }\n",
       "\n",
       "    .dataframe tbody tr th {\n",
       "        vertical-align: top;\n",
       "    }\n",
       "\n",
       "    .dataframe thead th {\n",
       "        text-align: right;\n",
       "    }\n",
       "</style>\n",
       "<table border=\"1\" class=\"dataframe\">\n",
       "  <thead>\n",
       "    <tr style=\"text-align: right;\">\n",
       "      <th></th>\n",
       "      <th>mpg</th>\n",
       "      <th>cylinders</th>\n",
       "      <th>displacement</th>\n",
       "      <th>horsepower</th>\n",
       "      <th>weight</th>\n",
       "      <th>acceleration</th>\n",
       "      <th>model_year</th>\n",
       "      <th>origin</th>\n",
       "      <th>name</th>\n",
       "    </tr>\n",
       "  </thead>\n",
       "  <tbody>\n",
       "    <tr>\n",
       "      <th>0</th>\n",
       "      <td>18.0</td>\n",
       "      <td>8</td>\n",
       "      <td>307.0</td>\n",
       "      <td>130.0</td>\n",
       "      <td>3504</td>\n",
       "      <td>12.0</td>\n",
       "      <td>70</td>\n",
       "      <td>usa</td>\n",
       "      <td>chevrolet chevelle malibu</td>\n",
       "    </tr>\n",
       "    <tr>\n",
       "      <th>1</th>\n",
       "      <td>15.0</td>\n",
       "      <td>8</td>\n",
       "      <td>350.0</td>\n",
       "      <td>165.0</td>\n",
       "      <td>3693</td>\n",
       "      <td>11.5</td>\n",
       "      <td>70</td>\n",
       "      <td>usa</td>\n",
       "      <td>buick skylark 320</td>\n",
       "    </tr>\n",
       "    <tr>\n",
       "      <th>2</th>\n",
       "      <td>18.0</td>\n",
       "      <td>8</td>\n",
       "      <td>318.0</td>\n",
       "      <td>150.0</td>\n",
       "      <td>3436</td>\n",
       "      <td>11.0</td>\n",
       "      <td>70</td>\n",
       "      <td>usa</td>\n",
       "      <td>plymouth satellite</td>\n",
       "    </tr>\n",
       "    <tr>\n",
       "      <th>3</th>\n",
       "      <td>16.0</td>\n",
       "      <td>8</td>\n",
       "      <td>304.0</td>\n",
       "      <td>150.0</td>\n",
       "      <td>3433</td>\n",
       "      <td>12.0</td>\n",
       "      <td>70</td>\n",
       "      <td>usa</td>\n",
       "      <td>amc rebel sst</td>\n",
       "    </tr>\n",
       "    <tr>\n",
       "      <th>4</th>\n",
       "      <td>17.0</td>\n",
       "      <td>8</td>\n",
       "      <td>302.0</td>\n",
       "      <td>140.0</td>\n",
       "      <td>3449</td>\n",
       "      <td>10.5</td>\n",
       "      <td>70</td>\n",
       "      <td>usa</td>\n",
       "      <td>ford torino</td>\n",
       "    </tr>\n",
       "  </tbody>\n",
       "</table>\n",
       "</div>"
      ],
      "text/plain": [
       "    mpg  cylinders  displacement  horsepower  weight  acceleration  \\\n",
       "0  18.0          8         307.0       130.0    3504          12.0   \n",
       "1  15.0          8         350.0       165.0    3693          11.5   \n",
       "2  18.0          8         318.0       150.0    3436          11.0   \n",
       "3  16.0          8         304.0       150.0    3433          12.0   \n",
       "4  17.0          8         302.0       140.0    3449          10.5   \n",
       "\n",
       "   model_year origin                       name  \n",
       "0          70    usa  chevrolet chevelle malibu  \n",
       "1          70    usa          buick skylark 320  \n",
       "2          70    usa         plymouth satellite  \n",
       "3          70    usa              amc rebel sst  \n",
       "4          70    usa                ford torino  "
      ]
     },
     "execution_count": 2,
     "metadata": {},
     "output_type": "execute_result"
    }
   ],
   "source": [
    "# import cars data\n",
    "filepath = '../Uppgift/Data/auto-mpg.csv'\n",
    "cars = pd.read_csv(filepath)\n",
    "cars.head()"
   ]
  },
  {
   "cell_type": "code",
   "execution_count": 3,
   "metadata": {},
   "outputs": [
    {
     "data": {
      "text/plain": [
       "(398, 9)"
      ]
     },
     "execution_count": 3,
     "metadata": {},
     "output_type": "execute_result"
    }
   ],
   "source": [
    "cars.shape"
   ]
  },
  {
   "attachments": {},
   "cell_type": "markdown",
   "metadata": {},
   "source": [
    "The number of instances and attributes in dataset are 398 and 9\n"
   ]
  },
  {
   "cell_type": "code",
   "execution_count": 4,
   "metadata": {},
   "outputs": [
    {
     "data": {
      "text/plain": [
       "Index(['mpg', 'cylinders', 'displacement', 'horsepower', 'weight',\n",
       "       'acceleration', 'model_year', 'origin', 'name'],\n",
       "      dtype='object')"
      ]
     },
     "execution_count": 4,
     "metadata": {},
     "output_type": "execute_result"
    }
   ],
   "source": [
    "cars.columns"
   ]
  },
  {
   "attachments": {},
   "cell_type": "markdown",
   "metadata": {},
   "source": [
    "Description of total number of columns present in dataset.  \n",
    "- mpg : Miles or mileage per gallon which represents the fuel consumption of car.\n",
    "- cylinders: Contains the number of cyinders present in car where fuel is combusted to generate the power.\n",
    "- displacement: Overall volume of air displased by the engine (cubic inches).\n",
    "- horsepower: Indicates the power of engine (horsepower).\n",
    "- weight: Gross weight of car (pounds).\n",
    "- acceleration: increasing speed- time to go 0-60 mph(seconds).\n",
    "- model_year: year of the car model.\n",
    "- origin: country of manufacture of car.\n",
    "- name: Name of the car- model designation."
   ]
  },
  {
   "cell_type": "code",
   "execution_count": 5,
   "metadata": {},
   "outputs": [
    {
     "name": "stdout",
     "output_type": "stream",
     "text": [
      "<class 'pandas.core.frame.DataFrame'>\n",
      "RangeIndex: 398 entries, 0 to 397\n",
      "Data columns (total 9 columns):\n",
      " #   Column        Non-Null Count  Dtype  \n",
      "---  ------        --------------  -----  \n",
      " 0   mpg           398 non-null    float64\n",
      " 1   cylinders     398 non-null    int64  \n",
      " 2   displacement  398 non-null    float64\n",
      " 3   horsepower    392 non-null    float64\n",
      " 4   weight        398 non-null    int64  \n",
      " 5   acceleration  398 non-null    float64\n",
      " 6   model_year    398 non-null    int64  \n",
      " 7   origin        398 non-null    object \n",
      " 8   name          398 non-null    object \n",
      "dtypes: float64(4), int64(3), object(2)\n",
      "memory usage: 28.1+ KB\n"
     ]
    }
   ],
   "source": [
    "cars.info()"
   ]
  },
  {
   "cell_type": "code",
   "execution_count": 6,
   "metadata": {},
   "outputs": [
    {
     "data": {
      "text/plain": [
       "mpg             0\n",
       "cylinders       0\n",
       "displacement    0\n",
       "horsepower      6\n",
       "weight          0\n",
       "acceleration    0\n",
       "model_year      0\n",
       "origin          0\n",
       "name            0\n",
       "dtype: int64"
      ]
     },
     "execution_count": 6,
     "metadata": {},
     "output_type": "execute_result"
    }
   ],
   "source": [
    "cars.isnull().sum()"
   ]
  },
  {
   "attachments": {},
   "cell_type": "markdown",
   "metadata": {},
   "source": [
    "From above dataset there are 6 NAN values are present in horsepower."
   ]
  },
  {
   "cell_type": "code",
   "execution_count": 7,
   "metadata": {},
   "outputs": [
    {
     "data": {
      "text/plain": [
       "mpg             0\n",
       "cylinders       0\n",
       "displacement    0\n",
       "horsepower      0\n",
       "weight          0\n",
       "acceleration    0\n",
       "model_year      0\n",
       "origin          0\n",
       "name            0\n",
       "dtype: int64"
      ]
     },
     "execution_count": 7,
     "metadata": {},
     "output_type": "execute_result"
    }
   ],
   "source": [
    "cars = cars.dropna() # Pick out rows that contain NaN\n",
    "cars.isnull().sum()"
   ]
  },
  {
   "attachments": {},
   "cell_type": "markdown",
   "metadata": {},
   "source": [
    "## Descriptive statistics"
   ]
  },
  {
   "attachments": {},
   "cell_type": "markdown",
   "metadata": {},
   "source": [
    "#### Mode:\n",
    "Mode is the value that appears more frequently in our dataset.We can calculate mode in Pandas through the function  <code>.mode()</code>"
   ]
  },
  {
   "cell_type": "code",
   "execution_count": 8,
   "metadata": {},
   "outputs": [
    {
     "data": {
      "text/plain": [
       "0    usa\n",
       "Name: origin, dtype: object"
      ]
     },
     "execution_count": 8,
     "metadata": {},
     "output_type": "execute_result"
    }
   ],
   "source": [
    "cars['origin'].mode() # calculate mode using Pandas"
   ]
  },
  {
   "cell_type": "code",
   "execution_count": 9,
   "metadata": {},
   "outputs": [
    {
     "data": {
      "text/plain": [
       "usa       245\n",
       "japan      79\n",
       "europe     68\n",
       "Name: origin, dtype: int64"
      ]
     },
     "execution_count": 9,
     "metadata": {},
     "output_type": "execute_result"
    }
   ],
   "source": [
    "cars['origin'].value_counts() # calculate mode using  NumPy"
   ]
  },
  {
   "attachments": {},
   "cell_type": "markdown",
   "metadata": {},
   "source": [
    "### Median:\n",
    "Median is the middle value in a sorted list.The median can be calculated directly in Pandas with the <code>median()</code> function.\n",
    "- If there is an odd amount of numbers present in dataset, then median is the middle value.\n",
    "- If there is an even amount of numbers present in dataset, then median is the average of two middle values.\n",
    "\n",
    "Let's calculate the median of the miles per gallon (mpg).\n"
   ]
  },
  {
   "cell_type": "code",
   "execution_count": 10,
   "metadata": {},
   "outputs": [
    {
     "data": {
      "text/plain": [
       "22.75"
      ]
     },
     "execution_count": 10,
     "metadata": {},
     "output_type": "execute_result"
    }
   ],
   "source": [
    "cars['mpg'].median() # calculate median using Pandas"
   ]
  },
  {
   "cell_type": "code",
   "execution_count": 11,
   "metadata": {},
   "outputs": [
    {
     "data": {
      "text/plain": [
       "22.75"
      ]
     },
     "execution_count": 11,
     "metadata": {},
     "output_type": "execute_result"
    }
   ],
   "source": [
    "np.median(cars['mpg']) # numpy"
   ]
  },
  {
   "attachments": {},
   "cell_type": "markdown",
   "metadata": {},
   "source": [
    "### Mean:\n",
    "Mean is the average of a data set, i.e. the sum of all values ​​divided by how many values ​​are in the data set.\n",
    "\n",
    "${\\bar x}=\\frac{1}{n}\\sum_{i=1}^{n}x_i=\\frac{x_1+\\dots+x_n}{n}$"
   ]
  },
  {
   "cell_type": "code",
   "execution_count": 12,
   "metadata": {},
   "outputs": [
    {
     "data": {
      "text/plain": [
       "23.445918367346938"
      ]
     },
     "execution_count": 12,
     "metadata": {},
     "output_type": "execute_result"
    }
   ],
   "source": [
    "cars['mpg'].mean() # calculate mean using Pandas"
   ]
  },
  {
   "cell_type": "code",
   "execution_count": 13,
   "metadata": {},
   "outputs": [
    {
     "data": {
      "text/plain": [
       "23.445918367346938"
      ]
     },
     "execution_count": 13,
     "metadata": {},
     "output_type": "execute_result"
    }
   ],
   "source": [
    "np.mean(cars['mpg']) # calculate mean using NumPy"
   ]
  },
  {
   "attachments": {},
   "cell_type": "markdown",
   "metadata": {},
   "source": [
    "### Variance:\n",
    "The variance is a measurement of spread between numbers in a dataset.\n",
    "\n",
    "$\\,\\,\\,\\,\\,\\,\\,\\,\\,s^2=\\frac{1}{n-1}\\sum_{i=1}^{n}\\left(x_i-{\\bar x}\\right)^2$\n",
    "\n",
    "We use $n-1$ degrees of freedom when calculating on samples, and $n$ degrees of freedom when calculating on populations. In practice, it is almost never possible to count on populations, therefore the formula $n-1$ will be by far the most common one we encounter. \n",
    "\n",
    "\n",
    "Variance can be calculated in Pandas with the <code>var()</code> function. What is the sample variance of miles per gallon (mpg) in the data set ?\n"
   ]
  },
  {
   "cell_type": "code",
   "execution_count": 14,
   "metadata": {},
   "outputs": [
    {
     "data": {
      "text/plain": [
       "60.91814186544184"
      ]
     },
     "execution_count": 14,
     "metadata": {},
     "output_type": "execute_result"
    }
   ],
   "source": [
    "cars['mpg'].var() # calculate variance using Pandas"
   ]
  },
  {
   "cell_type": "code",
   "execution_count": 15,
   "metadata": {},
   "outputs": [
    {
     "data": {
      "text/plain": [
       "60.91814186544184"
      ]
     },
     "execution_count": 15,
     "metadata": {},
     "output_type": "execute_result"
    }
   ],
   "source": [
    "np.var(cars['mpg'],ddof=1) # ddof in this context stands for 'delta degrees of freedom'."
   ]
  },
  {
   "attachments": {},
   "cell_type": "markdown",
   "metadata": {},
   "source": [
    "### Standard deviation:\n",
    "It is a measure of amount of variation or dispersion of set of data.The standard deviationvis the root of the variance : $s=\\sqrt{s^2}$\n",
    "\n",
    "Pandas also has a built-in function for standard deviation <code>std()</code> here."
   ]
  },
  {
   "cell_type": "code",
   "execution_count": 16,
   "metadata": {},
   "outputs": [
    {
     "data": {
      "text/plain": [
       "7.8050074865717995"
      ]
     },
     "execution_count": 16,
     "metadata": {},
     "output_type": "execute_result"
    }
   ],
   "source": [
    "cars['mpg'].std()# calculate standard deviation using Pandas"
   ]
  },
  {
   "cell_type": "code",
   "execution_count": 17,
   "metadata": {},
   "outputs": [
    {
     "data": {
      "text/plain": [
       "7.8050074865717995"
      ]
     },
     "execution_count": 17,
     "metadata": {},
     "output_type": "execute_result"
    }
   ],
   "source": [
    "np.std(cars['mpg'],ddof=1) # with NumPy"
   ]
  },
  {
   "attachments": {},
   "cell_type": "markdown",
   "metadata": {},
   "source": [
    "Pandas has a practical function called <code>describe()</code>. This function decribes the statstics of each column of dataset.\n"
   ]
  },
  {
   "cell_type": "code",
   "execution_count": 18,
   "metadata": {},
   "outputs": [
    {
     "data": {
      "text/html": [
       "<div>\n",
       "<style scoped>\n",
       "    .dataframe tbody tr th:only-of-type {\n",
       "        vertical-align: middle;\n",
       "    }\n",
       "\n",
       "    .dataframe tbody tr th {\n",
       "        vertical-align: top;\n",
       "    }\n",
       "\n",
       "    .dataframe thead th {\n",
       "        text-align: right;\n",
       "    }\n",
       "</style>\n",
       "<table border=\"1\" class=\"dataframe\">\n",
       "  <thead>\n",
       "    <tr style=\"text-align: right;\">\n",
       "      <th></th>\n",
       "      <th>mpg</th>\n",
       "      <th>cylinders</th>\n",
       "      <th>displacement</th>\n",
       "      <th>horsepower</th>\n",
       "      <th>weight</th>\n",
       "      <th>acceleration</th>\n",
       "      <th>model_year</th>\n",
       "    </tr>\n",
       "  </thead>\n",
       "  <tbody>\n",
       "    <tr>\n",
       "      <th>0</th>\n",
       "      <td>18.0</td>\n",
       "      <td>8</td>\n",
       "      <td>307.0</td>\n",
       "      <td>130.0</td>\n",
       "      <td>3504</td>\n",
       "      <td>12.0</td>\n",
       "      <td>70</td>\n",
       "    </tr>\n",
       "    <tr>\n",
       "      <th>1</th>\n",
       "      <td>15.0</td>\n",
       "      <td>8</td>\n",
       "      <td>350.0</td>\n",
       "      <td>165.0</td>\n",
       "      <td>3693</td>\n",
       "      <td>11.5</td>\n",
       "      <td>70</td>\n",
       "    </tr>\n",
       "  </tbody>\n",
       "</table>\n",
       "</div>"
      ],
      "text/plain": [
       "    mpg  cylinders  displacement  horsepower  weight  acceleration  model_year\n",
       "0  18.0          8         307.0       130.0    3504          12.0          70\n",
       "1  15.0          8         350.0       165.0    3693          11.5          70"
      ]
     },
     "execution_count": 18,
     "metadata": {},
     "output_type": "execute_result"
    }
   ],
   "source": [
    "cars_stat= cars.loc[:, 'mpg':'model_year']\n",
    "cars_stat.head(2)"
   ]
  },
  {
   "cell_type": "code",
   "execution_count": 19,
   "metadata": {},
   "outputs": [
    {
     "data": {
      "text/html": [
       "<div>\n",
       "<style scoped>\n",
       "    .dataframe tbody tr th:only-of-type {\n",
       "        vertical-align: middle;\n",
       "    }\n",
       "\n",
       "    .dataframe tbody tr th {\n",
       "        vertical-align: top;\n",
       "    }\n",
       "\n",
       "    .dataframe thead th {\n",
       "        text-align: right;\n",
       "    }\n",
       "</style>\n",
       "<table border=\"1\" class=\"dataframe\">\n",
       "  <thead>\n",
       "    <tr style=\"text-align: right;\">\n",
       "      <th></th>\n",
       "      <th>mpg</th>\n",
       "      <th>cylinders</th>\n",
       "      <th>displacement</th>\n",
       "      <th>horsepower</th>\n",
       "      <th>weight</th>\n",
       "      <th>acceleration</th>\n",
       "      <th>model_year</th>\n",
       "    </tr>\n",
       "  </thead>\n",
       "  <tbody>\n",
       "    <tr>\n",
       "      <th>count</th>\n",
       "      <td>392.00</td>\n",
       "      <td>392.00</td>\n",
       "      <td>392.00</td>\n",
       "      <td>392.00</td>\n",
       "      <td>392.00</td>\n",
       "      <td>392.00</td>\n",
       "      <td>392.00</td>\n",
       "    </tr>\n",
       "    <tr>\n",
       "      <th>mean</th>\n",
       "      <td>23.45</td>\n",
       "      <td>5.47</td>\n",
       "      <td>194.41</td>\n",
       "      <td>104.47</td>\n",
       "      <td>2977.58</td>\n",
       "      <td>15.54</td>\n",
       "      <td>75.98</td>\n",
       "    </tr>\n",
       "    <tr>\n",
       "      <th>std</th>\n",
       "      <td>7.81</td>\n",
       "      <td>1.71</td>\n",
       "      <td>104.64</td>\n",
       "      <td>38.49</td>\n",
       "      <td>849.40</td>\n",
       "      <td>2.76</td>\n",
       "      <td>3.68</td>\n",
       "    </tr>\n",
       "    <tr>\n",
       "      <th>min</th>\n",
       "      <td>9.00</td>\n",
       "      <td>3.00</td>\n",
       "      <td>68.00</td>\n",
       "      <td>46.00</td>\n",
       "      <td>1613.00</td>\n",
       "      <td>8.00</td>\n",
       "      <td>70.00</td>\n",
       "    </tr>\n",
       "    <tr>\n",
       "      <th>25%</th>\n",
       "      <td>17.00</td>\n",
       "      <td>4.00</td>\n",
       "      <td>105.00</td>\n",
       "      <td>75.00</td>\n",
       "      <td>2225.25</td>\n",
       "      <td>13.78</td>\n",
       "      <td>73.00</td>\n",
       "    </tr>\n",
       "    <tr>\n",
       "      <th>50%</th>\n",
       "      <td>22.75</td>\n",
       "      <td>4.00</td>\n",
       "      <td>151.00</td>\n",
       "      <td>93.50</td>\n",
       "      <td>2803.50</td>\n",
       "      <td>15.50</td>\n",
       "      <td>76.00</td>\n",
       "    </tr>\n",
       "    <tr>\n",
       "      <th>75%</th>\n",
       "      <td>29.00</td>\n",
       "      <td>8.00</td>\n",
       "      <td>275.75</td>\n",
       "      <td>126.00</td>\n",
       "      <td>3614.75</td>\n",
       "      <td>17.02</td>\n",
       "      <td>79.00</td>\n",
       "    </tr>\n",
       "    <tr>\n",
       "      <th>max</th>\n",
       "      <td>46.60</td>\n",
       "      <td>8.00</td>\n",
       "      <td>455.00</td>\n",
       "      <td>230.00</td>\n",
       "      <td>5140.00</td>\n",
       "      <td>24.80</td>\n",
       "      <td>82.00</td>\n",
       "    </tr>\n",
       "  </tbody>\n",
       "</table>\n",
       "</div>"
      ],
      "text/plain": [
       "          mpg cylinders displacement horsepower   weight acceleration  \\\n",
       "count  392.00    392.00       392.00     392.00   392.00       392.00   \n",
       "mean    23.45      5.47       194.41     104.47  2977.58        15.54   \n",
       "std      7.81      1.71       104.64      38.49   849.40         2.76   \n",
       "min      9.00      3.00        68.00      46.00  1613.00         8.00   \n",
       "25%     17.00      4.00       105.00      75.00  2225.25        13.78   \n",
       "50%     22.75      4.00       151.00      93.50  2803.50        15.50   \n",
       "75%     29.00      8.00       275.75     126.00  3614.75        17.02   \n",
       "max     46.60      8.00       455.00     230.00  5140.00        24.80   \n",
       "\n",
       "      model_year  \n",
       "count     392.00  \n",
       "mean       75.98  \n",
       "std         3.68  \n",
       "min        70.00  \n",
       "25%        73.00  \n",
       "50%        76.00  \n",
       "75%        79.00  \n",
       "max        82.00  "
      ]
     },
     "execution_count": 19,
     "metadata": {},
     "output_type": "execute_result"
    }
   ],
   "source": [
    "cars_stat.describe().apply(lambda x:x.apply('{0:.2f}'.format)) # Calculate descriptive metrics in Pandas.."
   ]
  },
  {
   "attachments": {},
   "cell_type": "markdown",
   "metadata": {},
   "source": [
    "Let's make a histogram of the selected columns in our dataset.A graphical way to examine skewness is to compare the mean with the median.\n",
    "- If the mean is greater than the median, the distribution is skewed to the right. \n",
    "ice versa,\n",
    "- If the mean is less than the median, the distribution is skewed to the left.\n",
    "\n",
    " "
   ]
  },
  {
   "cell_type": "code",
   "execution_count": 29,
   "metadata": {},
   "outputs": [
    {
     "data": {
      "image/png": "[encoded data removed]",
      "text/plain": [
       "<Figure size 1300x900 with 1 Axes>"
      ]
     },
     "metadata": {},
     "output_type": "display_data"
    },
    {
     "data": {
      "image/png": "[encoded data removed]",
      "text/plain": [
       "<Figure size 640x480 with 1 Axes>"
      ]
     },
     "metadata": {},
     "output_type": "display_data"
    },
    {
     "data": {
      "image/png": "[encoded data removed]",
      "text/plain": [
       "<Figure size 640x480 with 1 Axes>"
      ]
     },
     "metadata": {},
     "output_type": "display_data"
    },
    {
     "data": {
      "image/png": "[encoded data removed]",
      "text/plain": [
       "<Figure size 640x480 with 1 Axes>"
      ]
     },
     "metadata": {},
     "output_type": "display_data"
    },
    {
     "data": {
      "image/png": "[encoded data removed]",
      "text/plain": [
       "<Figure size 640x480 with 1 Axes>"
      ]
     },
     "metadata": {},
     "output_type": "display_data"
    },
    {
     "data": {
      "image/png": "[encoded data removed]",
      "text/plain": [
       "<Figure size 640x480 with 1 Axes>"
      ]
     },
     "metadata": {},
     "output_type": "display_data"
    },
    {
     "data": {
      "image/png": "[encoded data removed]",
      "text/plain": [
       "<Figure size 640x480 with 1 Axes>"
      ]
     },
     "metadata": {},
     "output_type": "display_data"
    }
   ],
   "source": [
    "### Grundplot\n",
    "fig = plt.figure(figsize=(13,9))\n",
    "\n",
    "for i, col in enumerate(cars_stat):\n",
    "\n",
    "    ax=plt.subplot(4,3,i+1)\n",
    "    sns.histplot(data = cars_stat,x=cars_stat[col],bins=8, ax=ax, kde=True)\n",
    "    \n",
    "    ### Mean och median\n",
    "    mean = cars_stat[col].mean() # calculate mean for cars sats data\n",
    "    median = cars_stat[col].median() # calculate median for cars sats data\n",
    "    ax.plot([mean, mean], [0, 80], color='green', linestyle='--', linewidth=1, label='Mean') # Plot mean value of car_stat with dashed green line\n",
    "    ax.plot([median, median], [0, 80], color='red', linestyle='--', linewidth=1, label='Median') # Plot median value of car_stat with dashed gred line\n",
    "    \n",
    "    ### Legend\n",
    "    leg = ax.legend(loc='upper right') # Draw legend for mean and median in upper right corner\n",
    "    plt.show()"
   ]
  },
  {
   "attachments": {},
   "cell_type": "markdown",
   "metadata": {},
   "source": [
    "Summary:From the plots\n",
    "\n",
    "mpg , cylinders,displacement,horsepower, weight,acceleration,model_year: The mean is greater than the median so the distribution is thus skewed to the right, and should have a positive skewness value.\n"
   ]
  },
  {
   "cell_type": "code",
   "execution_count": 21,
   "metadata": {},
   "outputs": [
    {
     "data": {
      "text/plain": [
       "mpg             0.457092\n",
       "cylinders       0.508109\n",
       "displacement    0.701669\n",
       "horsepower      1.087326\n",
       "weight          0.519586\n",
       "acceleration    0.291587\n",
       "model_year      0.019688\n",
       "dtype: float64"
      ]
     },
     "execution_count": 21,
     "metadata": {},
     "output_type": "execute_result"
    }
   ],
   "source": [
    "cars_stat.skew()# Beräkna skevhet med Pandas"
   ]
  },
  {
   "cell_type": "code",
   "execution_count": 22,
   "metadata": {},
   "outputs": [
    {
     "data": {
      "text/plain": [
       "array([0.45534138, 0.50616287, 0.69898128, 1.08316116, 0.51759535,\n",
       "       0.29046997, 0.01961288])"
      ]
     },
     "execution_count": 22,
     "metadata": {},
     "output_type": "execute_result"
    }
   ],
   "source": [
    "skewness = scs.skew(cars_stat)\n",
    "skewness"
   ]
  },
  {
   "attachments": {},
   "cell_type": "markdown",
   "metadata": {},
   "source": [
    "Theoritically tested:\n",
    "\n",
    "skewness = 0: normally distributed\n",
    "\n",
    "skewness > 0 : more weight in the left tail of the distribution.\n",
    "\n",
    "skewness < 0 : more weight in the right tail of the distribution. \n",
    "\n",
    "So all columns in the data has more weight in the left tail of the distribution."
   ]
  }
 ],
 "metadata": {
  "kernelspec": {
   "display_name": "Statistiska_metoder-vineela-nedunuri-vmh_srPp",
   "language": "python",
   "name": "python3"
  },
  "language_info": {
   "codemirror_mode": {
    "name": "ipython",
    "version": 3
   },
   "file_extension": ".py",
   "mimetype": "text/x-python",
   "name": "python",
   "nbconvert_exporter": "python",
   "pygments_lexer": "ipython3",
   "version": "3.9.13"
  },
  "orig_nbformat": 4,
  "vscode": {
   "interpreter": {
    "hash": "7a5a49ccb5e261c4e8f7bbcde6062d84be8b5c00c9c8a163b6c159e9690e0f72"
   }
  }
 },
 "nbformat": 4,
 "nbformat_minor": 2
}
