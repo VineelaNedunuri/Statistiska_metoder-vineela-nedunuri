{
 "cells": [
  {
   "cell_type": "code",
   "execution_count": 1,
   "metadata": {},
   "outputs": [
    {
     "data": {
      "text/html": [
       "<div>\n",
       "<style scoped>\n",
       "    .dataframe tbody tr th:only-of-type {\n",
       "        vertical-align: middle;\n",
       "    }\n",
       "\n",
       "    .dataframe tbody tr th {\n",
       "        vertical-align: top;\n",
       "    }\n",
       "\n",
       "    .dataframe thead th {\n",
       "        text-align: right;\n",
       "    }\n",
       "</style>\n",
       "<table border=\"1\" class=\"dataframe\">\n",
       "  <thead>\n",
       "    <tr style=\"text-align: right;\">\n",
       "      <th></th>\n",
       "      <th>mpg</th>\n",
       "      <th>cylinders</th>\n",
       "      <th>displacement</th>\n",
       "      <th>horsepower</th>\n",
       "      <th>weight</th>\n",
       "      <th>acceleration</th>\n",
       "      <th>model_year</th>\n",
       "      <th>origin</th>\n",
       "      <th>name</th>\n",
       "    </tr>\n",
       "  </thead>\n",
       "  <tbody>\n",
       "    <tr>\n",
       "      <th>0</th>\n",
       "      <td>18.0</td>\n",
       "      <td>8</td>\n",
       "      <td>307.0</td>\n",
       "      <td>130.0</td>\n",
       "      <td>3504</td>\n",
       "      <td>12.0</td>\n",
       "      <td>70</td>\n",
       "      <td>usa</td>\n",
       "      <td>chevrolet chevelle malibu</td>\n",
       "    </tr>\n",
       "    <tr>\n",
       "      <th>1</th>\n",
       "      <td>15.0</td>\n",
       "      <td>8</td>\n",
       "      <td>350.0</td>\n",
       "      <td>165.0</td>\n",
       "      <td>3693</td>\n",
       "      <td>11.5</td>\n",
       "      <td>70</td>\n",
       "      <td>usa</td>\n",
       "      <td>buick skylark 320</td>\n",
       "    </tr>\n",
       "    <tr>\n",
       "      <th>2</th>\n",
       "      <td>18.0</td>\n",
       "      <td>8</td>\n",
       "      <td>318.0</td>\n",
       "      <td>150.0</td>\n",
       "      <td>3436</td>\n",
       "      <td>11.0</td>\n",
       "      <td>70</td>\n",
       "      <td>usa</td>\n",
       "      <td>plymouth satellite</td>\n",
       "    </tr>\n",
       "    <tr>\n",
       "      <th>3</th>\n",
       "      <td>16.0</td>\n",
       "      <td>8</td>\n",
       "      <td>304.0</td>\n",
       "      <td>150.0</td>\n",
       "      <td>3433</td>\n",
       "      <td>12.0</td>\n",
       "      <td>70</td>\n",
       "      <td>usa</td>\n",
       "      <td>amc rebel sst</td>\n",
       "    </tr>\n",
       "    <tr>\n",
       "      <th>4</th>\n",
       "      <td>17.0</td>\n",
       "      <td>8</td>\n",
       "      <td>302.0</td>\n",
       "      <td>140.0</td>\n",
       "      <td>3449</td>\n",
       "      <td>10.5</td>\n",
       "      <td>70</td>\n",
       "      <td>usa</td>\n",
       "      <td>ford torino</td>\n",
       "    </tr>\n",
       "  </tbody>\n",
       "</table>\n",
       "</div>"
      ],
      "text/plain": [
       "    mpg  cylinders  displacement  horsepower  weight  acceleration  \\\n",
       "0  18.0          8         307.0       130.0    3504          12.0   \n",
       "1  15.0          8         350.0       165.0    3693          11.5   \n",
       "2  18.0          8         318.0       150.0    3436          11.0   \n",
       "3  16.0          8         304.0       150.0    3433          12.0   \n",
       "4  17.0          8         302.0       140.0    3449          10.5   \n",
       "\n",
       "   model_year origin                       name  \n",
       "0          70    usa  chevrolet chevelle malibu  \n",
       "1          70    usa          buick skylark 320  \n",
       "2          70    usa         plymouth satellite  \n",
       "3          70    usa              amc rebel sst  \n",
       "4          70    usa                ford torino  "
      ]
     },
     "execution_count": 1,
     "metadata": {},
     "output_type": "execute_result"
    }
   ],
   "source": [
    "#importera paket\n",
    "import numpy as np\n",
    "import pandas as pd\n",
    "import matplotlib.pyplot as plt\n",
    "import scipy.stats as scs \n",
    "\n",
    "# import cars data\n",
    "filepath = '../Uppgift/Data/auto-mpg.csv'\n",
    "cars = pd.read_csv(filepath)\n",
    "cars = cars.dropna() # Remove rows containing NaN\n",
    "cars.head()"
   ]
  },
  {
   "attachments": {},
   "cell_type": "markdown",
   "metadata": {},
   "source": [
    "### Construct a hypothesis test that examines whether average fuel efficiency of all cars manufacutre in the year 1982 are same or different  (assume the population mean $\\mu_0$ = 40 mpg). Use a significance level of $\\alpha = 0.05$.\n",
    "\n",
    "Since the population standard deviation is unknown, we will use a t-test here."
   ]
  },
  {
   "cell_type": "code",
   "execution_count": 2,
   "metadata": {},
   "outputs": [],
   "source": [
    "from scipy.stats import t # Import the t-distribution from SciPy"
   ]
  },
  {
   "attachments": {},
   "cell_type": "markdown",
   "metadata": {},
   "source": [
    "Alternative hypothesis : The average fuel efficiency of cars manufactured in the year 1982 is not equal to 40 mpg.\n",
    "\n",
    "$H_A: \\mu \\neq 40\\,mpg$\n",
    "\n",
    "    \n",
    "Null hypothesis : The average fuel efficiency of cars manufactured in the year 1982 is equal to 40 mpg.\n",
    "\n",
    "$H_0: \\mu = 40\\,mpg$\n",
    "\n",
    "\n",
    "Then, we calculate the test statistic for our null hypothesis, i.e.:\n",
    "\n",
    "$t = \\frac{\\overline{X} - \\mu_0}{s \\,/\\sqrt{n}}$"
   ]
  },
  {
   "attachments": {},
   "cell_type": "markdown",
   "metadata": {},
   "source": [
    "- $ |Test statistic| < Critical value $:Fail to reject null hypothesis.\n",
    "\n",
    "- $ |Test statistic| \\geq Critical value$:Reject null hypothesis."
   ]
  },
  {
   "attachments": {},
   "cell_type": "markdown",
   "metadata": {},
   "source": [
    "- If $ p value \\leq \\alpha $  then the result would be reject null hypothesis.\n",
    "\n",
    "- If $ p value > \\alpha $  then the result would be fail to reject null hypothesis."
   ]
  },
  {
   "attachments": {},
   "cell_type": "markdown",
   "metadata": {},
   "source": [
    "calculate the hypothesis test by using  NumPy"
   ]
  },
  {
   "cell_type": "code",
   "execution_count": 35,
   "metadata": {},
   "outputs": [
    {
     "name": "stdout",
     "output_type": "stream",
     "text": [
      "Test statistic: -8.374123511411977\n",
      "Critical statistic: 2.045229642132703\n",
      "Reject the null hypothesis, mean value is different\n"
     ]
    }
   ],
   "source": [
    "year = cars[cars['model_year'] == 82] # Data of cars manufactured in 1982\n",
    "sample = year['mpg'] # Select the column mpg as sample\n",
    "\n",
    "xbar = sample.mean() # Calculate sample mean\n",
    "mu = 40 # Set mu as the value for the null hypothesis\n",
    "std = sample.std(ddof=1) # calculate the sample standard deviation\n",
    "n = len(sample) # calculate the size of the sample\n",
    "alpha = 0.05\n",
    "\n",
    "statistic = (xbar - mu) / (std / np.sqrt(n)) # Calculate the value of the test statistic\n",
    "print('Test statistic: ' +str(statistic)) # Print the test statistics\n",
    "\n",
    "\n",
    "t_crit = t.ppf(1-alpha/2, n-1) # Calculate the value of the critical statistic\n",
    "print('Critical statistic: ' +str(t_crit)) # Print the critical statistics\n",
    "\n",
    "if abs(statistic) < t_crit: #  To check condition of test result\n",
    "    print(\"Fail to reject the null hypothesis, mean value is same\")\n",
    "else:\n",
    "    print(\"Reject the null hypothesis, mean value is different\")"
   ]
  },
  {
   "attachments": {},
   "cell_type": "markdown",
   "metadata": {},
   "source": [
    "$ |Test statistic| = 8.374 \\geq Critical value =2.045 $: So we reject null hypothesis  $ H_0.$ with significance level of $\\alpha = 0.05$ and average fuel efficiency of all cars manufacutre in the year 1982 are different."
   ]
  },
  {
   "attachments": {},
   "cell_type": "markdown",
   "metadata": {},
   "source": [
    "\n",
    "We use the built-in function ttest_1samp(), which calculates the t-test statistic and its p-value given a set of data and a population mean. Here we use alternative='two-sided', which gives us the two-sided test that our sample mean is different from the population mean.\n"
   ]
  },
  {
   "cell_type": "code",
   "execution_count": 14,
   "metadata": {},
   "outputs": [
    {
     "name": "stdout",
     "output_type": "stream",
     "text": [
      "-8.374123511411977 3.1374935328662237e-09\n",
      "Reject the null hypothesis, mean value is equal to 40 mpg\n"
     ]
    }
   ],
   "source": [
    "result,pvalue= scs.ttest_1samp(a=sample, popmean=mu, alternative='two-sided') # Carry out two-sided t-test including ttest_1samp() in SciPy\n",
    "\n",
    "print(result,pvalue) # Print the result\n",
    "\n",
    "if pvalue > alpha:# To check condition of test result\n",
    "    print(\"Fail to reject the null hypothesis, mean value is not equal to 40 mpg\")\n",
    "else:\n",
    "    print(\"Reject the null hypothesis, mean value is equal to 40 mpg\")"
   ]
  },
  {
   "attachments": {},
   "cell_type": "markdown",
   "metadata": {},
   "source": [
    "$ pvalue \\leq \\alpha $  so we the reject null hypothesis. So the result  would be the average fuel efficiency of cars manufactured in the year 1982 is not equal to 40 mpg.\n"
   ]
  },
  {
   "attachments": {},
   "cell_type": "markdown",
   "metadata": {},
   "source": [
    "## Construct a hypothesis test that examines whether more than one fourth of the cars with 4 cylinders are manufactured in USA. Use a significance value of $\\alpha=0.1$\n",
    "For proportion tests, we use the default normal distribution Z, so we start by importing it from SciPy.\n"
   ]
  },
  {
   "cell_type": "code",
   "execution_count": 15,
   "metadata": {},
   "outputs": [],
   "source": [
    "from scipy.stats import norm # Import the normalfordelning from SciPy"
   ]
  },
  {
   "attachments": {},
   "cell_type": "markdown",
   "metadata": {},
   "source": [
    "Alternative hypothesis: The Cars in data contain more than one fourth of the cars with 4 cylinders manufactured in USA.\n",
    "\n",
    "$H_A: p > 1/4$\n",
    "\n",
    "    \n",
    "Null hypothesis :The Cars in data contain less than or equal one fourth of the cars with 4 cylinders manufactured in USA.\n",
    "\n",
    "$H_0: p \\leq 1/4$\n",
    "\n",
    "\n",
    "Then we calculate the test statistic for our hypothesis, which is given by\n",
    "\n",
    "$Z = \\frac{\\hat{p}-p_0}{\\sqrt{p_0(1-p_0)/n}}$"
   ]
  },
  {
   "cell_type": "code",
   "execution_count": 23,
   "metadata": {},
   "outputs": [],
   "source": [
    "from statsmodels.stats import proportion"
   ]
  },
  {
   "attachments": {},
   "cell_type": "markdown",
   "metadata": {},
   "source": [
    "Here we use the proportions_ztest() test and we use alternative='larger', because our alternative hypothesis is that p is <strong>more</strong> than 1/2.\n"
   ]
  },
  {
   "cell_type": "code",
   "execution_count": 38,
   "metadata": {},
   "outputs": [
    {
     "name": "stdout",
     "output_type": "stream",
     "text": [
      "statistic :1.1434522260231417\n",
      "pvalue :0.12642543963172764\n",
      "Fail to reject the null hypothesis\n"
     ]
    }
   ],
   "source": [
    "cars_usa = cars[cars['origin'] == 'usa'] # Data of cars manufactured by usa.\n",
    "usa_4 = cars_usa[cars_usa['cylinders'] == 4] # Data of cars with 4 cylinders manufactured by usa.\n",
    "\n",
    "p_pop = 1/4 # proportion\n",
    "n = len(cars_usa) # length of the cars with 4 cylinders manufactured by usa.\n",
    "\n",
    "alpha = 0.1 # set the signifigance level.\n",
    "statistic, pvalue = proportion.proportions_ztest(count=len(usa_4), nobs=len(cars_usa), value=p_pop, prop_var=p_pop, alternative='larger')\n",
    "print('statistic :' + str(statistic))\n",
    "print('pvalue :' + str(pvalue))\n",
    "\n",
    "if pvalue > alpha:# To check condition of test result\n",
    "    print(\"Fail to reject the null hypothesis\")\n",
    "else:\n",
    "    print(\"Reject the null hypothesis\")\n"
   ]
  },
  {
   "attachments": {},
   "cell_type": "markdown",
   "metadata": {},
   "source": [
    "Since $p = 0.126 > \\alpha=0.1$, we cannot reject the null hypothesis. This means that with a significance level of 0.1, we cannot say that more than one fourth of the cars with 4 cylinders manufactured in USA.\n"
   ]
  }
 ],
 "metadata": {
  "kernelspec": {
   "display_name": "Statistiska_metoder-vineela-nedunuri-vmh_srPp",
   "language": "python",
   "name": "python3"
  },
  "language_info": {
   "codemirror_mode": {
    "name": "ipython",
    "version": 3
   },
   "file_extension": ".py",
   "mimetype": "text/x-python",
   "name": "python",
   "nbconvert_exporter": "python",
   "pygments_lexer": "ipython3",
   "version": "3.9.13 (tags/v3.9.13:6de2ca5, May 17 2022, 16:36:42) [MSC v.1929 64 bit (AMD64)]"
  },
  "orig_nbformat": 4,
  "vscode": {
   "interpreter": {
    "hash": "7a5a49ccb5e261c4e8f7bbcde6062d84be8b5c00c9c8a163b6c159e9690e0f72"
   }
  }
 },
 "nbformat": 4,
 "nbformat_minor": 2
}
