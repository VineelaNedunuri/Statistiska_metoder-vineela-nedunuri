{
 "cells": [
  {
   "cell_type": "code",
   "execution_count": 9,
   "metadata": {},
   "outputs": [],
   "source": [
    "#importera paket\n",
    "import numpy as np\n",
    "import pandas as pd\n",
    "import matplotlib.pyplot as plt\n",
    "import scipy.stats as scs \n",
    "\n",
    "# import cars data\n",
    "filepath = '../Uppgift/Data/auto-mpg.csv'\n",
    "cars = pd.read_csv(filepath)\n",
    "cars = cars.dropna() # Remove rows containing NaN"
   ]
  },
  {
   "cell_type": "code",
   "execution_count": 8,
   "metadata": {},
   "outputs": [
    {
     "data": {
      "text/html": [
       "<div>\n",
       "<style scoped>\n",
       "    .dataframe tbody tr th:only-of-type {\n",
       "        vertical-align: middle;\n",
       "    }\n",
       "\n",
       "    .dataframe tbody tr th {\n",
       "        vertical-align: top;\n",
       "    }\n",
       "\n",
       "    .dataframe thead th {\n",
       "        text-align: right;\n",
       "    }\n",
       "</style>\n",
       "<table border=\"1\" class=\"dataframe\">\n",
       "  <thead>\n",
       "    <tr style=\"text-align: right;\">\n",
       "      <th></th>\n",
       "      <th>mpg</th>\n",
       "      <th>cylinders</th>\n",
       "      <th>displacement</th>\n",
       "      <th>horsepower</th>\n",
       "      <th>weight</th>\n",
       "      <th>acceleration</th>\n",
       "      <th>model_year</th>\n",
       "      <th>origin</th>\n",
       "      <th>name</th>\n",
       "    </tr>\n",
       "  </thead>\n",
       "  <tbody>\n",
       "    <tr>\n",
       "      <th>0</th>\n",
       "      <td>18.0</td>\n",
       "      <td>8</td>\n",
       "      <td>307.0</td>\n",
       "      <td>130.0</td>\n",
       "      <td>3504</td>\n",
       "      <td>12.0</td>\n",
       "      <td>70</td>\n",
       "      <td>usa</td>\n",
       "      <td>chevrolet chevelle malibu</td>\n",
       "    </tr>\n",
       "    <tr>\n",
       "      <th>1</th>\n",
       "      <td>15.0</td>\n",
       "      <td>8</td>\n",
       "      <td>350.0</td>\n",
       "      <td>165.0</td>\n",
       "      <td>3693</td>\n",
       "      <td>11.5</td>\n",
       "      <td>70</td>\n",
       "      <td>usa</td>\n",
       "      <td>buick skylark 320</td>\n",
       "    </tr>\n",
       "    <tr>\n",
       "      <th>2</th>\n",
       "      <td>18.0</td>\n",
       "      <td>8</td>\n",
       "      <td>318.0</td>\n",
       "      <td>150.0</td>\n",
       "      <td>3436</td>\n",
       "      <td>11.0</td>\n",
       "      <td>70</td>\n",
       "      <td>usa</td>\n",
       "      <td>plymouth satellite</td>\n",
       "    </tr>\n",
       "    <tr>\n",
       "      <th>3</th>\n",
       "      <td>16.0</td>\n",
       "      <td>8</td>\n",
       "      <td>304.0</td>\n",
       "      <td>150.0</td>\n",
       "      <td>3433</td>\n",
       "      <td>12.0</td>\n",
       "      <td>70</td>\n",
       "      <td>usa</td>\n",
       "      <td>amc rebel sst</td>\n",
       "    </tr>\n",
       "    <tr>\n",
       "      <th>4</th>\n",
       "      <td>17.0</td>\n",
       "      <td>8</td>\n",
       "      <td>302.0</td>\n",
       "      <td>140.0</td>\n",
       "      <td>3449</td>\n",
       "      <td>10.5</td>\n",
       "      <td>70</td>\n",
       "      <td>usa</td>\n",
       "      <td>ford torino</td>\n",
       "    </tr>\n",
       "  </tbody>\n",
       "</table>\n",
       "</div>"
      ],
      "text/plain": [
       "    mpg  cylinders  displacement  horsepower  weight  acceleration  \\\n",
       "0  18.0          8         307.0       130.0    3504          12.0   \n",
       "1  15.0          8         350.0       165.0    3693          11.5   \n",
       "2  18.0          8         318.0       150.0    3436          11.0   \n",
       "3  16.0          8         304.0       150.0    3433          12.0   \n",
       "4  17.0          8         302.0       140.0    3449          10.5   \n",
       "\n",
       "   model_year origin                       name  \n",
       "0          70    usa  chevrolet chevelle malibu  \n",
       "1          70    usa          buick skylark 320  \n",
       "2          70    usa         plymouth satellite  \n",
       "3          70    usa              amc rebel sst  \n",
       "4          70    usa                ford torino  "
      ]
     },
     "execution_count": 8,
     "metadata": {},
     "output_type": "execute_result"
    }
   ],
   "source": [
    "cars.head()"
   ]
  },
  {
   "attachments": {},
   "cell_type": "markdown",
   "metadata": {},
   "source": [
    "#### what is the 95% confidence interval for average fuel effiency of cars with 4 cylinders?"
   ]
  },
  {
   "cell_type": "code",
   "execution_count": 16,
   "metadata": {},
   "outputs": [
    {
     "data": {
      "text/html": [
       "<div>\n",
       "<style scoped>\n",
       "    .dataframe tbody tr th:only-of-type {\n",
       "        vertical-align: middle;\n",
       "    }\n",
       "\n",
       "    .dataframe tbody tr th {\n",
       "        vertical-align: top;\n",
       "    }\n",
       "\n",
       "    .dataframe thead th {\n",
       "        text-align: right;\n",
       "    }\n",
       "</style>\n",
       "<table border=\"1\" class=\"dataframe\">\n",
       "  <thead>\n",
       "    <tr style=\"text-align: right;\">\n",
       "      <th></th>\n",
       "      <th>mpg</th>\n",
       "      <th>cylinders</th>\n",
       "      <th>displacement</th>\n",
       "      <th>horsepower</th>\n",
       "      <th>weight</th>\n",
       "      <th>acceleration</th>\n",
       "      <th>model_year</th>\n",
       "      <th>origin</th>\n",
       "      <th>name</th>\n",
       "    </tr>\n",
       "  </thead>\n",
       "  <tbody>\n",
       "    <tr>\n",
       "      <th>14</th>\n",
       "      <td>24.0</td>\n",
       "      <td>4</td>\n",
       "      <td>113.0</td>\n",
       "      <td>95.0</td>\n",
       "      <td>2372</td>\n",
       "      <td>15.0</td>\n",
       "      <td>70</td>\n",
       "      <td>japan</td>\n",
       "      <td>toyota corona mark ii</td>\n",
       "    </tr>\n",
       "    <tr>\n",
       "      <th>18</th>\n",
       "      <td>27.0</td>\n",
       "      <td>4</td>\n",
       "      <td>97.0</td>\n",
       "      <td>88.0</td>\n",
       "      <td>2130</td>\n",
       "      <td>14.5</td>\n",
       "      <td>70</td>\n",
       "      <td>japan</td>\n",
       "      <td>datsun pl510</td>\n",
       "    </tr>\n",
       "    <tr>\n",
       "      <th>19</th>\n",
       "      <td>26.0</td>\n",
       "      <td>4</td>\n",
       "      <td>97.0</td>\n",
       "      <td>46.0</td>\n",
       "      <td>1835</td>\n",
       "      <td>20.5</td>\n",
       "      <td>70</td>\n",
       "      <td>europe</td>\n",
       "      <td>volkswagen 1131 deluxe sedan</td>\n",
       "    </tr>\n",
       "    <tr>\n",
       "      <th>20</th>\n",
       "      <td>25.0</td>\n",
       "      <td>4</td>\n",
       "      <td>110.0</td>\n",
       "      <td>87.0</td>\n",
       "      <td>2672</td>\n",
       "      <td>17.5</td>\n",
       "      <td>70</td>\n",
       "      <td>europe</td>\n",
       "      <td>peugeot 504</td>\n",
       "    </tr>\n",
       "    <tr>\n",
       "      <th>21</th>\n",
       "      <td>24.0</td>\n",
       "      <td>4</td>\n",
       "      <td>107.0</td>\n",
       "      <td>90.0</td>\n",
       "      <td>2430</td>\n",
       "      <td>14.5</td>\n",
       "      <td>70</td>\n",
       "      <td>europe</td>\n",
       "      <td>audi 100 ls</td>\n",
       "    </tr>\n",
       "  </tbody>\n",
       "</table>\n",
       "</div>"
      ],
      "text/plain": [
       "     mpg  cylinders  displacement  horsepower  weight  acceleration  \\\n",
       "14  24.0          4         113.0        95.0    2372          15.0   \n",
       "18  27.0          4          97.0        88.0    2130          14.5   \n",
       "19  26.0          4          97.0        46.0    1835          20.5   \n",
       "20  25.0          4         110.0        87.0    2672          17.5   \n",
       "21  24.0          4         107.0        90.0    2430          14.5   \n",
       "\n",
       "    model_year  origin                          name  \n",
       "14          70   japan         toyota corona mark ii  \n",
       "18          70   japan                  datsun pl510  \n",
       "19          70  europe  volkswagen 1131 deluxe sedan  \n",
       "20          70  europe                   peugeot 504  \n",
       "21          70  europe                   audi 100 ls  "
      ]
     },
     "execution_count": 16,
     "metadata": {},
     "output_type": "execute_result"
    }
   ],
   "source": [
    "from scipy.stats import t # Import the t-distribution from SciPy\n",
    "\n",
    "cylinder4 = cars.query('cylinders == 4') # subset data for 4 cylinders cars\n",
    "cylinder4.head()\n",
    " "
   ]
  },
  {
   "cell_type": "code",
   "execution_count": 4,
   "metadata": {},
   "outputs": [
    {
     "name": "stdout",
     "output_type": "stream",
     "text": [
      "Result: 29.3 ± 0.8\n",
      "Confidence interval (α=0.05) for average fuel efficiency of cars with 4 cylinders : [28.5 30.1]\n"
     ]
    }
   ],
   "source": [
    "mean = np.mean(cylinder4['mpg']) # Calculate the sample mean\n",
    "std = np.std(cylinder4['mpg'], ddof=1) # Calculate the sample standard deviation\n",
    "n = len(cylinder4['mpg']) # Calculate n for the sample\n",
    "\n",
    "alpha = 0.05 # Set significance level\n",
    "t_crit = t.ppf(1-alpha/2, n-1) # Calculate critical t-value\n",
    "sem = std / np.sqrt(n) # Calculate the standard error of the mean \n",
    "\n",
    "upper = mean - t_crit * sem # Calculate below limit\n",
    "lower = mean + t_crit * sem # Calculate upper limit\n",
    "round(upper, 1), round(lower, 1) # Rounding to 1 decimal place\n",
    "print('Result: ' + str(round(mean,1)) + ' \\u00B1 ' + str(round(t_crit*sem,1))) # print confidenceinterval\n",
    "print(f'Confidence interval (\\u03B1=0.05) for average fuel efficiency of cars with 4 cylinders : [{round(upper,1)} {round(lower,1)}]') # Printa konfidensintervall\n"
   ]
  },
  {
   "attachments": {},
   "cell_type": "markdown",
   "metadata": {},
   "source": [
    "So 95% confidence interval for average fuel efficiency of cars with 4 cylinders would be [28.5 30.1]"
   ]
  },
  {
   "attachments": {},
   "cell_type": "markdown",
   "metadata": {},
   "source": [
    "#### what is the 90% confidence interval for the difference in horsepower between cars with 4 cylinders and cars with 8 cylinders?"
   ]
  },
  {
   "attachments": {},
   "cell_type": "markdown",
   "metadata": {},
   "source": [
    "\n",
    "If the populations standard deviation is equal then konfidence interval for $\\mu_{1}$- $\\mu_{2}$  \n",
    "\n",
    "$(\\bar{x_1} - \\bar{x_2})\\pm t_{\\alpha/2, {df}}{\\sqrt{\\frac{s_p^2}{n_1} + \\frac{s_p^2}{n_2}}}$\n",
    "\n",
    "$s_{p} = {\\sqrt{\\frac{({n_1}-1){s_1^2} + ({n_2}-1){s_2^2}}{({n_1}+{n_2}-2)}}}  $\n",
    "\n",
    "If the populations standard deviation is not equal then konfidence interval for $\\mu_{1}$- $\\mu_{2}$  \n",
    "\n",
    "$(\\bar{x_1} - \\bar{x_2})\\pm t_{\\alpha/2, {df}}{\\sqrt{\\frac{s_1^2}{n_1} + \\frac{s_2^2}{n_2}}}$\n",
    "\n",
    "\n"
   ]
  },
  {
   "attachments": {},
   "cell_type": "markdown",
   "metadata": {},
   "source": [
    "Assuming tha data of the population standard deviations are equal"
   ]
  },
  {
   "cell_type": "code",
   "execution_count": 48,
   "metadata": {},
   "outputs": [
    {
     "name": "stdout",
     "output_type": "stream",
     "text": [
      "Result: -80.0 ± 4.1\n",
      "Confidence interval (α=0.1) for the difference in horsepower between cars with 4 cylinders and cars with 8 cylinders : [-84.1 -75.9]\n"
     ]
    }
   ],
   "source": [
    "cylinder_4 = cars[cars['cylinders'] == 4]\n",
    "cylinder_8 = cars[cars['cylinders'] == 8]\n",
    "\n",
    "n_1 = len(cylinder_4) #  Calculate n for the sample of cars with 4 cylinders \n",
    "n_2 = len(cylinder_8) # Calculate n for the sample of cars with 8 cylinders \n",
    "\n",
    "x_1 = np.mean(cylinder_4['horsepower']) # Calculate the sample 1 mean\n",
    "s_1 = np.std(cylinder4['horsepower'], ddof=1) # Calculate the sample 1 standard deviation\n",
    "\n",
    "x_2 = np.mean(cylinder_8['horsepower']) # Calculate the sample 2 mean\n",
    "s_2 = np.std(cylinder_8['horsepower'], ddof=1) # Calculate the sample 2 standard deviation\n",
    "\n",
    "alpha = 0.1 # Set significance level\n",
    "df = n_1+n_2-2 # degree of fredom\n",
    "t_crit = t.ppf(1-alpha/2, df ) # Calculate critical t-value\n",
    "\n",
    "s_p = np.sqrt(((n_1-1)*s_1**2 + (n_2-1)*s_2**2)/(n_1+n_2-2)) # calculate standard deviation of two samples\n",
    "sem = s_p * np.sqrt((1/n_1)+(1/n_2)) # Calculate the standard error of the mean\n",
    "\n",
    "diff_mean = x_1-x_2 # calculate difference in mean\n",
    "upper = diff_mean - t_crit * sem # Calculate below limit\n",
    "lower = diff_mean + t_crit * sem # Calculate upper limit\n",
    "\n",
    "print('Result: ' + str(round(diff_mean,1)) + ' \\u00B1 ' + str(round(t_crit*sem,1))) # print confidenceinterval\n",
    "print(f'Confidence interval (\\u03B1=0.1) for the difference in horsepower between cars with 4 cylinders and cars with 8 cylinders : [{round(upper,1)} {round(lower,1)}]') # Printa konfidensintervall\n",
    "\n",
    "\n"
   ]
  },
  {
   "attachments": {},
   "cell_type": "markdown",
   "metadata": {},
   "source": [
    "So 90% confidence interval for the difference in horsepower between cars with 4 cylinders and cars with 8 cylinders would be [-84.1 -75.9]"
   ]
  }
 ],
 "metadata": {
  "kernelspec": {
   "display_name": "Statistiska_metoder-vineela-nedunuri-vmh_srPp",
   "language": "python",
   "name": "python3"
  },
  "language_info": {
   "codemirror_mode": {
    "name": "ipython",
    "version": 3
   },
   "file_extension": ".py",
   "mimetype": "text/x-python",
   "name": "python",
   "nbconvert_exporter": "python",
   "pygments_lexer": "ipython3",
   "version": "3.9.13 (tags/v3.9.13:6de2ca5, May 17 2022, 16:36:42) [MSC v.1929 64 bit (AMD64)]"
  },
  "orig_nbformat": 4,
  "vscode": {
   "interpreter": {
    "hash": "7a5a49ccb5e261c4e8f7bbcde6062d84be8b5c00c9c8a163b6c159e9690e0f72"
   }
  }
 },
 "nbformat": 4,
 "nbformat_minor": 2
}
